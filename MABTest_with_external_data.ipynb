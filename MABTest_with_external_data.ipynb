{
 "cells": [
  {
   "cell_type": "markdown",
   "metadata": {},
   "source": [
    "# Demo - MAB test with Thompson sampling\n",
    "\n",
    "This demo uses the dataset from [Kaggle/ab-testing-dataset](https://www.kaggle.com/datasets/amirmotefaker/ab-testing-dataset/) to simulate the whole situation again and compare the result of the MAB and AB tests by limiting the daily sample size to 10k impressions. For the AB test, both variants always split the sample size equally (5k). Whenever the number of impressions in the data is less than the desired sample size, 5k in AB test or the calculated size in MAB, we assume that we can only collect the number of samples in the given data, with the concern that the CPI may increase as the number of impressions increases.\n",
    "\n",
    "### Objective:\n",
    "Optimise the number of purchases at the lowest cost\n",
    "\n",
    "### Assumptions:\n",
    "- The cost, Spend[USD], is calculated by the number of impressions.\n",
    "- CPI (cost per impression) is always constant at the same time when fewer impressions have been obtained."
   ]
  },
  {
   "cell_type": "code",
   "execution_count": 1,
   "metadata": {},
   "outputs": [
    {
     "data": {
      "text/html": [
       "<div>\n",
       "<style scoped>\n",
       "    .dataframe tbody tr th:only-of-type {\n",
       "        vertical-align: middle;\n",
       "    }\n",
       "\n",
       "    .dataframe tbody tr th {\n",
       "        vertical-align: top;\n",
       "    }\n",
       "\n",
       "    .dataframe thead th {\n",
       "        text-align: right;\n",
       "    }\n",
       "</style>\n",
       "<table border=\"1\" class=\"dataframe\">\n",
       "  <thead>\n",
       "    <tr style=\"text-align: right;\">\n",
       "      <th></th>\n",
       "      <th>Campaign Name</th>\n",
       "      <th>Date</th>\n",
       "      <th>Spend [USD]</th>\n",
       "      <th># of Impressions</th>\n",
       "      <th>Reach</th>\n",
       "      <th># of Website Clicks</th>\n",
       "      <th># of Searches</th>\n",
       "      <th># of View Content</th>\n",
       "      <th># of Add to Cart</th>\n",
       "      <th># of Purchase</th>\n",
       "    </tr>\n",
       "  </thead>\n",
       "  <tbody>\n",
       "    <tr>\n",
       "      <th>0</th>\n",
       "      <td>Control Campaign</td>\n",
       "      <td>2019-08-01</td>\n",
       "      <td>2280</td>\n",
       "      <td>82702.0</td>\n",
       "      <td>56930.0</td>\n",
       "      <td>7016.0</td>\n",
       "      <td>2290.0</td>\n",
       "      <td>2159.0</td>\n",
       "      <td>1819.0</td>\n",
       "      <td>618.0</td>\n",
       "    </tr>\n",
       "    <tr>\n",
       "      <th>1</th>\n",
       "      <td>Control Campaign</td>\n",
       "      <td>2019-08-02</td>\n",
       "      <td>1757</td>\n",
       "      <td>121040.0</td>\n",
       "      <td>102513.0</td>\n",
       "      <td>8110.0</td>\n",
       "      <td>2033.0</td>\n",
       "      <td>1841.0</td>\n",
       "      <td>1219.0</td>\n",
       "      <td>511.0</td>\n",
       "    </tr>\n",
       "    <tr>\n",
       "      <th>2</th>\n",
       "      <td>Control Campaign</td>\n",
       "      <td>2019-08-03</td>\n",
       "      <td>2343</td>\n",
       "      <td>131711.0</td>\n",
       "      <td>110862.0</td>\n",
       "      <td>6508.0</td>\n",
       "      <td>1737.0</td>\n",
       "      <td>1549.0</td>\n",
       "      <td>1134.0</td>\n",
       "      <td>372.0</td>\n",
       "    </tr>\n",
       "    <tr>\n",
       "      <th>27</th>\n",
       "      <td>Test Campaign</td>\n",
       "      <td>2019-08-28</td>\n",
       "      <td>2247</td>\n",
       "      <td>54627.0</td>\n",
       "      <td>41267.0</td>\n",
       "      <td>8144.0</td>\n",
       "      <td>2432.0</td>\n",
       "      <td>1281.0</td>\n",
       "      <td>1009.0</td>\n",
       "      <td>721.0</td>\n",
       "    </tr>\n",
       "    <tr>\n",
       "      <th>28</th>\n",
       "      <td>Test Campaign</td>\n",
       "      <td>2019-08-29</td>\n",
       "      <td>2805</td>\n",
       "      <td>67444.0</td>\n",
       "      <td>43219.0</td>\n",
       "      <td>7651.0</td>\n",
       "      <td>1920.0</td>\n",
       "      <td>1240.0</td>\n",
       "      <td>1168.0</td>\n",
       "      <td>677.0</td>\n",
       "    </tr>\n",
       "    <tr>\n",
       "      <th>29</th>\n",
       "      <td>Test Campaign</td>\n",
       "      <td>2019-08-30</td>\n",
       "      <td>1977</td>\n",
       "      <td>120203.0</td>\n",
       "      <td>89380.0</td>\n",
       "      <td>4399.0</td>\n",
       "      <td>2978.0</td>\n",
       "      <td>1625.0</td>\n",
       "      <td>1034.0</td>\n",
       "      <td>572.0</td>\n",
       "    </tr>\n",
       "  </tbody>\n",
       "</table>\n",
       "</div>"
      ],
      "text/plain": [
       "       Campaign Name       Date  Spend [USD]  # of Impressions     Reach  \\\n",
       "0   Control Campaign 2019-08-01         2280           82702.0   56930.0   \n",
       "1   Control Campaign 2019-08-02         1757          121040.0  102513.0   \n",
       "2   Control Campaign 2019-08-03         2343          131711.0  110862.0   \n",
       "27     Test Campaign 2019-08-28         2247           54627.0   41267.0   \n",
       "28     Test Campaign 2019-08-29         2805           67444.0   43219.0   \n",
       "29     Test Campaign 2019-08-30         1977          120203.0   89380.0   \n",
       "\n",
       "    # of Website Clicks  # of Searches  # of View Content  # of Add to Cart  \\\n",
       "0                7016.0         2290.0             2159.0            1819.0   \n",
       "1                8110.0         2033.0             1841.0            1219.0   \n",
       "2                6508.0         1737.0             1549.0            1134.0   \n",
       "27               8144.0         2432.0             1281.0            1009.0   \n",
       "28               7651.0         1920.0             1240.0            1168.0   \n",
       "29               4399.0         2978.0             1625.0            1034.0   \n",
       "\n",
       "    # of Purchase  \n",
       "0           618.0  \n",
       "1           511.0  \n",
       "2           372.0  \n",
       "27          721.0  \n",
       "28          677.0  \n",
       "29          572.0  "
      ]
     },
     "execution_count": 1,
     "metadata": {},
     "output_type": "execute_result"
    }
   ],
   "source": [
    "# Load data\n",
    "import pandas as pd\n",
    "from datetime import datetime\n",
    "import warnings\n",
    "warnings.filterwarnings('ignore')\n",
    "\n",
    "control = pd.read_csv('sample_data/ABTestDataSet/control_group.csv', sep=';')\n",
    "test = pd.read_csv('sample_data/ABTestDataSet/test_group.csv', sep=';')\n",
    "\n",
    "df = pd.concat([control, test], axis=0) \n",
    "df['Date'] = df['Date'].apply(lambda x: datetime.strptime(x, \"%d.%m.%Y\"))\n",
    "pd.concat([df.head(3), df.tail(3)], axis=0)"
   ]
  },
  {
   "cell_type": "code",
   "execution_count": 2,
   "metadata": {},
   "outputs": [
    {
     "data": {
      "text/html": [
       "<div>\n",
       "<style scoped>\n",
       "    .dataframe tbody tr th:only-of-type {\n",
       "        vertical-align: middle;\n",
       "    }\n",
       "\n",
       "    .dataframe tbody tr th {\n",
       "        vertical-align: top;\n",
       "    }\n",
       "\n",
       "    .dataframe thead th {\n",
       "        text-align: right;\n",
       "    }\n",
       "</style>\n",
       "<table border=\"1\" class=\"dataframe\">\n",
       "  <thead>\n",
       "    <tr style=\"text-align: right;\">\n",
       "      <th></th>\n",
       "      <th>Campaign Name</th>\n",
       "      <th>Date</th>\n",
       "      <th>Spend [USD]</th>\n",
       "      <th># of Impressions</th>\n",
       "      <th>Reach</th>\n",
       "      <th># of Website Clicks</th>\n",
       "      <th># of Searches</th>\n",
       "      <th># of View Content</th>\n",
       "      <th># of Add to Cart</th>\n",
       "      <th># of Purchase</th>\n",
       "    </tr>\n",
       "  </thead>\n",
       "  <tbody>\n",
       "    <tr>\n",
       "      <th>4</th>\n",
       "      <td>Control Campaign</td>\n",
       "      <td>2019-08-05</td>\n",
       "      <td>1835</td>\n",
       "      <td>NaN</td>\n",
       "      <td>NaN</td>\n",
       "      <td>NaN</td>\n",
       "      <td>NaN</td>\n",
       "      <td>NaN</td>\n",
       "      <td>NaN</td>\n",
       "      <td>NaN</td>\n",
       "    </tr>\n",
       "    <tr>\n",
       "      <th>4</th>\n",
       "      <td>Test Campaign</td>\n",
       "      <td>2019-08-05</td>\n",
       "      <td>2297</td>\n",
       "      <td>114295.0</td>\n",
       "      <td>95138.0</td>\n",
       "      <td>5863.0</td>\n",
       "      <td>2106.0</td>\n",
       "      <td>858.0</td>\n",
       "      <td>956.0</td>\n",
       "      <td>768.0</td>\n",
       "    </tr>\n",
       "  </tbody>\n",
       "</table>\n",
       "</div>"
      ],
      "text/plain": [
       "      Campaign Name       Date  Spend [USD]  # of Impressions    Reach  \\\n",
       "4  Control Campaign 2019-08-05         1835               NaN      NaN   \n",
       "4     Test Campaign 2019-08-05         2297          114295.0  95138.0   \n",
       "\n",
       "   # of Website Clicks  # of Searches  # of View Content  # of Add to Cart  \\\n",
       "4                  NaN            NaN                NaN               NaN   \n",
       "4               5863.0         2106.0              858.0             956.0   \n",
       "\n",
       "   # of Purchase  \n",
       "4            NaN  \n",
       "4          768.0  "
      ]
     },
     "execution_count": 2,
     "metadata": {},
     "output_type": "execute_result"
    }
   ],
   "source": [
    "df[df.Date == '2019-08-05']"
   ]
  },
  {
   "cell_type": "markdown",
   "metadata": {},
   "source": [
    "There are missing value on 2019-08-05, therefore we will drop this date in the following experiment."
   ]
  },
  {
   "cell_type": "code",
   "execution_count": 3,
   "metadata": {},
   "outputs": [],
   "source": [
    "# Drop rows with Date == '2019-08-05'\n",
    "df = df.loc[df['Date'] != '2019-08-05']"
   ]
  },
  {
   "cell_type": "code",
   "execution_count": 4,
   "metadata": {},
   "outputs": [],
   "source": [
    "# Add different KPIs\n",
    "df['purchase_rate']=df['# of Purchase']/df['# of Impressions']\n",
    "df['cpi'] = df['Spend [USD]']/df['# of Impressions']\n",
    "df['cost per purchase'] = df['Spend [USD]']/df['# of Purchase']"
   ]
  },
  {
   "cell_type": "code",
   "execution_count": 23,
   "metadata": {},
   "outputs": [],
   "source": [
    "# Seting test parameters\n",
    "reward_type = 'Cost per Purchase'\n",
    "reward_col = 'cost per purchase'\n",
    "batch_col='Date'\n",
    "sample_size = 100000"
   ]
  },
  {
   "cell_type": "code",
   "execution_count": 18,
   "metadata": {},
   "outputs": [
    {
     "data": {
      "text/plain": [
       "Campaign Name\n",
       "Control Campaign    4.407229\n",
       "Test Campaign       5.016814\n",
       "dtype: float64"
      ]
     },
     "execution_count": 18,
     "metadata": {},
     "output_type": "execute_result"
    }
   ],
   "source": [
    "df.groupby('Campaign Name')['Spend [USD]'].sum()/df.groupby('Campaign Name')['# of Purchase'].sum()"
   ]
  },
  {
   "cell_type": "code",
   "execution_count": 19,
   "metadata": {},
   "outputs": [
    {
     "data": {
      "text/plain": [
       "{'Control Campaign': {'alpha': 100, 'beta': 100},\n",
       " 'Test Campaign': {'alpha': 100, 'beta': 100}}"
      ]
     },
     "execution_count": 19,
     "metadata": {},
     "output_type": "execute_result"
    }
   ],
   "source": [
    "variant_id = df['Campaign Name'].unique()\n",
    "\n",
    "# preset parameters for testing. Assume that the prior is strong and the same for all variants\n",
    "prior_hist = {variant: {'alpha': 100, 'beta': 100} for variant in variant_id}\n",
    "experiment_prior = {}\n",
    "experiment_prior= prior_hist\n",
    "experiment_prior"
   ]
  },
  {
   "cell_type": "code",
   "execution_count": 22,
   "metadata": {},
   "outputs": [
    {
     "data": {
      "text/plain": [
       "0.5172413793103449"
      ]
     },
     "execution_count": 22,
     "metadata": {},
     "output_type": "execute_result"
    }
   ],
   "source": [
    "df_pivoted = df.pivot(index='Date', columns='Campaign Name', values=reward_col)\n",
    "df_pivoted['Test>Control'] = df_pivoted['Test Campaign']>df_pivoted['Control Campaign']\n",
    "df_pivoted['Test>Control'].mean()"
   ]
  },
  {
   "cell_type": "code",
   "execution_count": 24,
   "metadata": {},
   "outputs": [
    {
     "name": "stdout",
     "output_type": "stream",
     "text": [
      "Waring: The sample size, 89550 is not equal to the target sample size, 100000.\n",
      "Waring: The sample size, 90468 is not equal to the target sample size, 100000.\n",
      "Waring: The sample size, 99999 is not equal to the target sample size, 100000.\n",
      "Waring: The sample size, 99999 is not equal to the target sample size, 100000.\n",
      "Waring: The sample size, 99999 is not equal to the target sample size, 100000.\n",
      "Waring: The sample size, 77721 is not equal to the target sample size, 100000.\n",
      "Waring: The sample size, 95370 is not equal to the target sample size, 100000.\n",
      "Waring: The sample size, 91751 is not equal to the target sample size, 100000.\n",
      "Waring: The sample size, 94149 is not equal to the target sample size, 100000.\n",
      "Waring: The sample size, 99999 is not equal to the target sample size, 100000.\n"
     ]
    },
    {
     "data": {
      "application/vnd.plotly.v1+json": {
       "config": {
        "plotlyServerURL": "https://plot.ly"
       },
       "data": [
        {
         "name": "Mean Control Campaign",
         "type": "scatter",
         "x": [
          "2019-08-01",
          "2019-08-02",
          "2019-08-03",
          "2019-08-04",
          "2019-08-06",
          "2019-08-07",
          "2019-08-08",
          "2019-08-09",
          "2019-08-10",
          "2019-08-11",
          "2019-08-12",
          "2019-08-13",
          "2019-08-14",
          "2019-08-15",
          "2019-08-16",
          "2019-08-17",
          "2019-08-18",
          "2019-08-19",
          "2019-08-20",
          "2019-08-21",
          "2019-08-22",
          "2019-08-23",
          "2019-08-24",
          "2019-08-25",
          "2019-08-26",
          "2019-08-27",
          "2019-08-28",
          "2019-08-29",
          "2019-08-30"
         ],
         "xaxis": "x",
         "y": [
          0.5,
          0.751,
          0.729,
          0.594,
          0.61,
          0.607,
          0.568,
          0.592,
          0.55,
          0.576,
          0.562,
          0.583,
          0.587,
          0.585,
          0.561,
          0.574,
          0.551,
          0.552,
          0.559,
          0.539,
          0.57,
          0.547,
          0.575,
          0.574,
          0.536,
          0.557,
          0.551,
          0.553,
          0.543
         ],
         "yaxis": "y"
        },
        {
         "name": "Mean Test Campaign",
         "type": "scatter",
         "x": [
          "2019-08-01",
          "2019-08-02",
          "2019-08-03",
          "2019-08-04",
          "2019-08-06",
          "2019-08-07",
          "2019-08-08",
          "2019-08-09",
          "2019-08-10",
          "2019-08-11",
          "2019-08-12",
          "2019-08-13",
          "2019-08-14",
          "2019-08-15",
          "2019-08-16",
          "2019-08-17",
          "2019-08-18",
          "2019-08-19",
          "2019-08-20",
          "2019-08-21",
          "2019-08-22",
          "2019-08-23",
          "2019-08-24",
          "2019-08-25",
          "2019-08-26",
          "2019-08-27",
          "2019-08-28",
          "2019-08-29",
          "2019-08-30"
         ],
         "xaxis": "x",
         "y": [
          0.5,
          0.249,
          0.271,
          0.406,
          0.39,
          0.393,
          0.432,
          0.408,
          0.45,
          0.424,
          0.438,
          0.417,
          0.413,
          0.415,
          0.439,
          0.426,
          0.449,
          0.448,
          0.441,
          0.461,
          0.43,
          0.453,
          0.425,
          0.426,
          0.464,
          0.443,
          0.449,
          0.447,
          0.457
         ],
         "yaxis": "y"
        },
        {
         "marker": {
          "color": [
           "green",
           "green",
           "grey",
           "green",
           "green",
           "grey",
           "green",
           "grey",
           "green",
           "grey",
           "green",
           "grey",
           "green",
           "grey",
           "green",
           "grey",
           "grey",
           "green",
           "grey",
           "green",
           "green",
           "green",
           "green",
           "grey",
           "grey",
           "green",
           "grey",
           "grey",
           "grey"
          ]
         },
         "mode": "markers",
         "name": "Test:Control Ratio",
         "type": "scatter",
         "x": [
          "2019-08-01",
          "2019-08-02",
          "2019-08-03",
          "2019-08-04",
          "2019-08-06",
          "2019-08-07",
          "2019-08-08",
          "2019-08-09",
          "2019-08-10",
          "2019-08-11",
          "2019-08-12",
          "2019-08-13",
          "2019-08-14",
          "2019-08-15",
          "2019-08-16",
          "2019-08-17",
          "2019-08-18",
          "2019-08-19",
          "2019-08-20",
          "2019-08-21",
          "2019-08-22",
          "2019-08-23",
          "2019-08-24",
          "2019-08-25",
          "2019-08-26",
          "2019-08-27",
          "2019-08-28",
          "2019-08-29",
          "2019-08-30"
         ],
         "xaxis": "x",
         "y": [
          3.197358101135191,
          1.0920336379739535,
          0.649641795409133,
          1.3969072164948453,
          1.2481934245439028,
          0.6254690481238075,
          1.6451239467578458,
          0.5589652437857201,
          3.4652227251575782,
          0.6910877041098525,
          1.3671412523393247,
          0.6897611102282959,
          3.135930980392157,
          0.8340694097741772,
          1.3668503623864752,
          0.8432234630186481,
          0.9974384608364515,
          1.0708271138289676,
          0.41525438484188965,
          5.63595821023917,
          1.383090225897599,
          1.5617054941182849,
          2.3885151331766705,
          0.8848677875017028,
          0.9146745677828728,
          1.1098430427096764,
          0.8277210331925746,
          0.5826758920936018,
          0.99643579312254
         ],
         "yaxis": "y2"
        }
       ],
       "layout": {
        "legend": {
         "orientation": "h",
         "x": 1,
         "xanchor": "right",
         "y": 1.02,
         "yanchor": "bottom"
        },
        "template": {
         "data": {
          "bar": [
           {
            "error_x": {
             "color": "#2a3f5f"
            },
            "error_y": {
             "color": "#2a3f5f"
            },
            "marker": {
             "line": {
              "color": "#E5ECF6",
              "width": 0.5
             },
             "pattern": {
              "fillmode": "overlay",
              "size": 10,
              "solidity": 0.2
             }
            },
            "type": "bar"
           }
          ],
          "barpolar": [
           {
            "marker": {
             "line": {
              "color": "#E5ECF6",
              "width": 0.5
             },
             "pattern": {
              "fillmode": "overlay",
              "size": 10,
              "solidity": 0.2
             }
            },
            "type": "barpolar"
           }
          ],
          "carpet": [
           {
            "aaxis": {
             "endlinecolor": "#2a3f5f",
             "gridcolor": "white",
             "linecolor": "white",
             "minorgridcolor": "white",
             "startlinecolor": "#2a3f5f"
            },
            "baxis": {
             "endlinecolor": "#2a3f5f",
             "gridcolor": "white",
             "linecolor": "white",
             "minorgridcolor": "white",
             "startlinecolor": "#2a3f5f"
            },
            "type": "carpet"
           }
          ],
          "choropleth": [
           {
            "colorbar": {
             "outlinewidth": 0,
             "ticks": ""
            },
            "type": "choropleth"
           }
          ],
          "contour": [
           {
            "colorbar": {
             "outlinewidth": 0,
             "ticks": ""
            },
            "colorscale": [
             [
              0,
              "#0d0887"
             ],
             [
              0.1111111111111111,
              "#46039f"
             ],
             [
              0.2222222222222222,
              "#7201a8"
             ],
             [
              0.3333333333333333,
              "#9c179e"
             ],
             [
              0.4444444444444444,
              "#bd3786"
             ],
             [
              0.5555555555555556,
              "#d8576b"
             ],
             [
              0.6666666666666666,
              "#ed7953"
             ],
             [
              0.7777777777777778,
              "#fb9f3a"
             ],
             [
              0.8888888888888888,
              "#fdca26"
             ],
             [
              1,
              "#f0f921"
             ]
            ],
            "type": "contour"
           }
          ],
          "contourcarpet": [
           {
            "colorbar": {
             "outlinewidth": 0,
             "ticks": ""
            },
            "type": "contourcarpet"
           }
          ],
          "heatmap": [
           {
            "colorbar": {
             "outlinewidth": 0,
             "ticks": ""
            },
            "colorscale": [
             [
              0,
              "#0d0887"
             ],
             [
              0.1111111111111111,
              "#46039f"
             ],
             [
              0.2222222222222222,
              "#7201a8"
             ],
             [
              0.3333333333333333,
              "#9c179e"
             ],
             [
              0.4444444444444444,
              "#bd3786"
             ],
             [
              0.5555555555555556,
              "#d8576b"
             ],
             [
              0.6666666666666666,
              "#ed7953"
             ],
             [
              0.7777777777777778,
              "#fb9f3a"
             ],
             [
              0.8888888888888888,
              "#fdca26"
             ],
             [
              1,
              "#f0f921"
             ]
            ],
            "type": "heatmap"
           }
          ],
          "heatmapgl": [
           {
            "colorbar": {
             "outlinewidth": 0,
             "ticks": ""
            },
            "colorscale": [
             [
              0,
              "#0d0887"
             ],
             [
              0.1111111111111111,
              "#46039f"
             ],
             [
              0.2222222222222222,
              "#7201a8"
             ],
             [
              0.3333333333333333,
              "#9c179e"
             ],
             [
              0.4444444444444444,
              "#bd3786"
             ],
             [
              0.5555555555555556,
              "#d8576b"
             ],
             [
              0.6666666666666666,
              "#ed7953"
             ],
             [
              0.7777777777777778,
              "#fb9f3a"
             ],
             [
              0.8888888888888888,
              "#fdca26"
             ],
             [
              1,
              "#f0f921"
             ]
            ],
            "type": "heatmapgl"
           }
          ],
          "histogram": [
           {
            "marker": {
             "pattern": {
              "fillmode": "overlay",
              "size": 10,
              "solidity": 0.2
             }
            },
            "type": "histogram"
           }
          ],
          "histogram2d": [
           {
            "colorbar": {
             "outlinewidth": 0,
             "ticks": ""
            },
            "colorscale": [
             [
              0,
              "#0d0887"
             ],
             [
              0.1111111111111111,
              "#46039f"
             ],
             [
              0.2222222222222222,
              "#7201a8"
             ],
             [
              0.3333333333333333,
              "#9c179e"
             ],
             [
              0.4444444444444444,
              "#bd3786"
             ],
             [
              0.5555555555555556,
              "#d8576b"
             ],
             [
              0.6666666666666666,
              "#ed7953"
             ],
             [
              0.7777777777777778,
              "#fb9f3a"
             ],
             [
              0.8888888888888888,
              "#fdca26"
             ],
             [
              1,
              "#f0f921"
             ]
            ],
            "type": "histogram2d"
           }
          ],
          "histogram2dcontour": [
           {
            "colorbar": {
             "outlinewidth": 0,
             "ticks": ""
            },
            "colorscale": [
             [
              0,
              "#0d0887"
             ],
             [
              0.1111111111111111,
              "#46039f"
             ],
             [
              0.2222222222222222,
              "#7201a8"
             ],
             [
              0.3333333333333333,
              "#9c179e"
             ],
             [
              0.4444444444444444,
              "#bd3786"
             ],
             [
              0.5555555555555556,
              "#d8576b"
             ],
             [
              0.6666666666666666,
              "#ed7953"
             ],
             [
              0.7777777777777778,
              "#fb9f3a"
             ],
             [
              0.8888888888888888,
              "#fdca26"
             ],
             [
              1,
              "#f0f921"
             ]
            ],
            "type": "histogram2dcontour"
           }
          ],
          "mesh3d": [
           {
            "colorbar": {
             "outlinewidth": 0,
             "ticks": ""
            },
            "type": "mesh3d"
           }
          ],
          "parcoords": [
           {
            "line": {
             "colorbar": {
              "outlinewidth": 0,
              "ticks": ""
             }
            },
            "type": "parcoords"
           }
          ],
          "pie": [
           {
            "automargin": true,
            "type": "pie"
           }
          ],
          "scatter": [
           {
            "fillpattern": {
             "fillmode": "overlay",
             "size": 10,
             "solidity": 0.2
            },
            "type": "scatter"
           }
          ],
          "scatter3d": [
           {
            "line": {
             "colorbar": {
              "outlinewidth": 0,
              "ticks": ""
             }
            },
            "marker": {
             "colorbar": {
              "outlinewidth": 0,
              "ticks": ""
             }
            },
            "type": "scatter3d"
           }
          ],
          "scattercarpet": [
           {
            "marker": {
             "colorbar": {
              "outlinewidth": 0,
              "ticks": ""
             }
            },
            "type": "scattercarpet"
           }
          ],
          "scattergeo": [
           {
            "marker": {
             "colorbar": {
              "outlinewidth": 0,
              "ticks": ""
             }
            },
            "type": "scattergeo"
           }
          ],
          "scattergl": [
           {
            "marker": {
             "colorbar": {
              "outlinewidth": 0,
              "ticks": ""
             }
            },
            "type": "scattergl"
           }
          ],
          "scattermapbox": [
           {
            "marker": {
             "colorbar": {
              "outlinewidth": 0,
              "ticks": ""
             }
            },
            "type": "scattermapbox"
           }
          ],
          "scatterpolar": [
           {
            "marker": {
             "colorbar": {
              "outlinewidth": 0,
              "ticks": ""
             }
            },
            "type": "scatterpolar"
           }
          ],
          "scatterpolargl": [
           {
            "marker": {
             "colorbar": {
              "outlinewidth": 0,
              "ticks": ""
             }
            },
            "type": "scatterpolargl"
           }
          ],
          "scatterternary": [
           {
            "marker": {
             "colorbar": {
              "outlinewidth": 0,
              "ticks": ""
             }
            },
            "type": "scatterternary"
           }
          ],
          "surface": [
           {
            "colorbar": {
             "outlinewidth": 0,
             "ticks": ""
            },
            "colorscale": [
             [
              0,
              "#0d0887"
             ],
             [
              0.1111111111111111,
              "#46039f"
             ],
             [
              0.2222222222222222,
              "#7201a8"
             ],
             [
              0.3333333333333333,
              "#9c179e"
             ],
             [
              0.4444444444444444,
              "#bd3786"
             ],
             [
              0.5555555555555556,
              "#d8576b"
             ],
             [
              0.6666666666666666,
              "#ed7953"
             ],
             [
              0.7777777777777778,
              "#fb9f3a"
             ],
             [
              0.8888888888888888,
              "#fdca26"
             ],
             [
              1,
              "#f0f921"
             ]
            ],
            "type": "surface"
           }
          ],
          "table": [
           {
            "cells": {
             "fill": {
              "color": "#EBF0F8"
             },
             "line": {
              "color": "white"
             }
            },
            "header": {
             "fill": {
              "color": "#C8D4E3"
             },
             "line": {
              "color": "white"
             }
            },
            "type": "table"
           }
          ]
         },
         "layout": {
          "annotationdefaults": {
           "arrowcolor": "#2a3f5f",
           "arrowhead": 0,
           "arrowwidth": 1
          },
          "autotypenumbers": "strict",
          "coloraxis": {
           "colorbar": {
            "outlinewidth": 0,
            "ticks": ""
           }
          },
          "colorscale": {
           "diverging": [
            [
             0,
             "#8e0152"
            ],
            [
             0.1,
             "#c51b7d"
            ],
            [
             0.2,
             "#de77ae"
            ],
            [
             0.3,
             "#f1b6da"
            ],
            [
             0.4,
             "#fde0ef"
            ],
            [
             0.5,
             "#f7f7f7"
            ],
            [
             0.6,
             "#e6f5d0"
            ],
            [
             0.7,
             "#b8e186"
            ],
            [
             0.8,
             "#7fbc41"
            ],
            [
             0.9,
             "#4d9221"
            ],
            [
             1,
             "#276419"
            ]
           ],
           "sequential": [
            [
             0,
             "#0d0887"
            ],
            [
             0.1111111111111111,
             "#46039f"
            ],
            [
             0.2222222222222222,
             "#7201a8"
            ],
            [
             0.3333333333333333,
             "#9c179e"
            ],
            [
             0.4444444444444444,
             "#bd3786"
            ],
            [
             0.5555555555555556,
             "#d8576b"
            ],
            [
             0.6666666666666666,
             "#ed7953"
            ],
            [
             0.7777777777777778,
             "#fb9f3a"
            ],
            [
             0.8888888888888888,
             "#fdca26"
            ],
            [
             1,
             "#f0f921"
            ]
           ],
           "sequentialminus": [
            [
             0,
             "#0d0887"
            ],
            [
             0.1111111111111111,
             "#46039f"
            ],
            [
             0.2222222222222222,
             "#7201a8"
            ],
            [
             0.3333333333333333,
             "#9c179e"
            ],
            [
             0.4444444444444444,
             "#bd3786"
            ],
            [
             0.5555555555555556,
             "#d8576b"
            ],
            [
             0.6666666666666666,
             "#ed7953"
            ],
            [
             0.7777777777777778,
             "#fb9f3a"
            ],
            [
             0.8888888888888888,
             "#fdca26"
            ],
            [
             1,
             "#f0f921"
            ]
           ]
          },
          "colorway": [
           "#636efa",
           "#EF553B",
           "#00cc96",
           "#ab63fa",
           "#FFA15A",
           "#19d3f3",
           "#FF6692",
           "#B6E880",
           "#FF97FF",
           "#FECB52"
          ],
          "font": {
           "color": "#2a3f5f"
          },
          "geo": {
           "bgcolor": "white",
           "lakecolor": "white",
           "landcolor": "#E5ECF6",
           "showlakes": true,
           "showland": true,
           "subunitcolor": "white"
          },
          "hoverlabel": {
           "align": "left"
          },
          "hovermode": "closest",
          "mapbox": {
           "style": "light"
          },
          "paper_bgcolor": "white",
          "plot_bgcolor": "#E5ECF6",
          "polar": {
           "angularaxis": {
            "gridcolor": "white",
            "linecolor": "white",
            "ticks": ""
           },
           "bgcolor": "#E5ECF6",
           "radialaxis": {
            "gridcolor": "white",
            "linecolor": "white",
            "ticks": ""
           }
          },
          "scene": {
           "xaxis": {
            "backgroundcolor": "#E5ECF6",
            "gridcolor": "white",
            "gridwidth": 2,
            "linecolor": "white",
            "showbackground": true,
            "ticks": "",
            "zerolinecolor": "white"
           },
           "yaxis": {
            "backgroundcolor": "#E5ECF6",
            "gridcolor": "white",
            "gridwidth": 2,
            "linecolor": "white",
            "showbackground": true,
            "ticks": "",
            "zerolinecolor": "white"
           },
           "zaxis": {
            "backgroundcolor": "#E5ECF6",
            "gridcolor": "white",
            "gridwidth": 2,
            "linecolor": "white",
            "showbackground": true,
            "ticks": "",
            "zerolinecolor": "white"
           }
          },
          "shapedefaults": {
           "line": {
            "color": "#2a3f5f"
           }
          },
          "ternary": {
           "aaxis": {
            "gridcolor": "white",
            "linecolor": "white",
            "ticks": ""
           },
           "baxis": {
            "gridcolor": "white",
            "linecolor": "white",
            "ticks": ""
           },
           "bgcolor": "#E5ECF6",
           "caxis": {
            "gridcolor": "white",
            "linecolor": "white",
            "ticks": ""
           }
          },
          "title": {
           "x": 0.05
          },
          "xaxis": {
           "automargin": true,
           "gridcolor": "white",
           "linecolor": "white",
           "ticks": "",
           "title": {
            "standoff": 15
           },
           "zerolinecolor": "white",
           "zerolinewidth": 2
          },
          "yaxis": {
           "automargin": true,
           "gridcolor": "white",
           "linecolor": "white",
           "ticks": "",
           "title": {
            "standoff": 15
           },
           "zerolinecolor": "white",
           "zerolinewidth": 2
          }
         }
        },
        "title": {
         "text": "Campaign Analysis"
        },
        "xaxis": {
         "anchor": "y",
         "domain": [
          0,
          0.94
         ],
         "tickangle": -45,
         "tickformat": "%Y-%m-%d",
         "tickvals": [
          "2019-08-01",
          "2019-08-12",
          "2019-08-22"
         ],
         "title": {
          "text": "Date"
         }
        },
        "yaxis": {
         "anchor": "x",
         "domain": [
          0,
          1
         ],
         "title": {
          "text": "Mean Values"
         }
        },
        "yaxis2": {
         "anchor": "x",
         "overlaying": "y",
         "side": "right",
         "title": {
          "text": "Cost per Purchase Ratio"
         }
        }
       }
      }
     },
     "metadata": {},
     "output_type": "display_data"
    }
   ],
   "source": [
    "# Run the simulation for 1 time\n",
    "from mab_utils import scenario_gen\n",
    "weight_group, data_size_group, params_list = scenario_gen(\n",
    "    df, reward_type, reward_col, experiment_prior, batch_col, \n",
    "    iteration = 1)"
   ]
  },
  {
   "cell_type": "code",
   "execution_count": 48,
   "metadata": {},
   "outputs": [],
   "source": [
    "original_performance = df.pivot(index='Date', columns='Campaign Name', values=[reward_col, '# of Impressions'])\n",
    "original_performance.index = original_performance.index.astype('str') \n",
    "performance_comp = pd.concat([\n",
    "    pd.DataFrame(data_size_group[0]).transpose(),\n",
    "    original_performance], axis=1)\n",
    "\n",
    "import numpy as np\n",
    "performance_comp['MAB Performance'] = performance_comp['Test Campaign']*performance_comp[(reward_col, 'Test Campaign')]+performance_comp['Control Campaign']*performance_comp[(reward_col, 'Control Campaign')]\n",
    "performance_comp['Original Performance'] = np.minimum(performance_comp[('# of Impressions', 'Test Campaign')], sample_size / 2)*performance_comp[(reward_col, 'Test Campaign')]+np.minimum(performance_comp[('# of Impressions', 'Control Campaign')], sample_size / 2)*performance_comp[(reward_col, 'Control Campaign')]\n",
    "performance_comp['MAB_size'] = performance_comp['Test Campaign']+performance_comp['Control Campaign']\n",
    "performance_comp['Original_size'] = np.minimum(performance_comp[('# of Impressions', 'Test Campaign')], sample_size / 2)+np.minimum(performance_comp[('# of Impressions', 'Control Campaign')], sample_size / 2)\n",
    "avg_diff = performance_comp['MAB Performance'].sum()/performance_comp['MAB_size'].sum() - performance_comp['Original Performance'].sum()/performance_comp['Original_size'].sum()"
   ]
  },
  {
   "cell_type": "code",
   "execution_count": 55,
   "metadata": {},
   "outputs": [
    {
     "name": "stdout",
     "output_type": "stream",
     "text": [
      "Performance of MAB comparing to AB test in Cost per Purchase: €-0.01181271174002596, with 44198.0 additonal impressions.\n"
     ]
    }
   ],
   "source": [
    "print(f\"Performance of MAB comparing to AB test in {reward_type}: €{avg_diff}, with {performance_comp['MAB_size'].sum()-performance_comp['Original_size'].sum()} additonal impressions.\")"
   ]
  },
  {
   "cell_type": "markdown",
   "metadata": {},
   "source": [
    "# Summary:\n",
    "\n",
    "The MAB test is almost stablised after 4 days and it has the same result as the AB test where the control campaign has a lower cost per purchase. However, the MAB test reduce the cost per purchase by €0.012 while having 44k more impression."
   ]
  },
  {
   "cell_type": "code",
   "execution_count": 53,
   "metadata": {},
   "outputs": [
    {
     "name": "stdout",
     "output_type": "stream",
     "text": [
      "Waring: The sample size, 89550 is not equal to the target sample size, 100000.\n",
      "Waring: The sample size, 91568 is not equal to the target sample size, 100000.\n",
      "Waring: The sample size, 99999 is not equal to the target sample size, 100000.\n",
      "Waring: The sample size, 99999 is not equal to the target sample size, 100000.\n",
      "Waring: The sample size, 99999 is not equal to the target sample size, 100000.\n",
      "Waring: The sample size, 99999 is not equal to the target sample size, 100000.\n",
      "Waring: The sample size, 79220 is not equal to the target sample size, 100000.\n",
      "Waring: The sample size, 95270 is not equal to the target sample size, 100000.\n",
      "Waring: The sample size, 90452 is not equal to the target sample size, 100000.\n",
      "Waring: The sample size, 93949 is not equal to the target sample size, 100000.\n",
      "Waring: The sample size, 89550 is not equal to the target sample size, 100000.\n",
      "Waring: The sample size, 92469 is not equal to the target sample size, 100000.\n",
      "Waring: The sample size, 99999 is not equal to the target sample size, 100000.\n",
      "Waring: The sample size, 99999 is not equal to the target sample size, 100000.\n",
      "Waring: The sample size, 99999 is not equal to the target sample size, 100000.\n",
      "Waring: The sample size, 99999 is not equal to the target sample size, 100000.\n",
      "Waring: The sample size, 99999 is not equal to the target sample size, 100000.\n",
      "Waring: The sample size, 99999 is not equal to the target sample size, 100000.\n",
      "Waring: The sample size, 76321 is not equal to the target sample size, 100000.\n",
      "Waring: The sample size, 95070 is not equal to the target sample size, 100000.\n",
      "Waring: The sample size, 92251 is not equal to the target sample size, 100000.\n",
      "Waring: The sample size, 99999 is not equal to the target sample size, 100000.\n",
      "Waring: The sample size, 91950 is not equal to the target sample size, 100000.\n",
      "Waring: The sample size, 99999 is not equal to the target sample size, 100000.\n",
      "Waring: The sample size, 99999 is not equal to the target sample size, 100000.\n",
      "Waring: The sample size, 89550 is not equal to the target sample size, 100000.\n",
      "Waring: The sample size, 91068 is not equal to the target sample size, 100000.\n",
      "Waring: The sample size, 98811 is not equal to the target sample size, 100000.\n",
      "Waring: The sample size, 99999 is not equal to the target sample size, 100000.\n",
      "Waring: The sample size, 99999 is not equal to the target sample size, 100000.\n",
      "Waring: The sample size, 99999 is not equal to the target sample size, 100000.\n",
      "Waring: The sample size, 76521 is not equal to the target sample size, 100000.\n",
      "Waring: The sample size, 93870 is not equal to the target sample size, 100000.\n",
      "Waring: The sample size, 88952 is not equal to the target sample size, 100000.\n",
      "Waring: The sample size, 92450 is not equal to the target sample size, 100000.\n",
      "Waring: The sample size, 99999 is not equal to the target sample size, 100000.\n",
      "Waring: The sample size, 99999 is not equal to the target sample size, 100000.\n",
      "Waring: The sample size, 89550 is not equal to the target sample size, 100000.\n",
      "Waring: The sample size, 91268 is not equal to the target sample size, 100000.\n",
      "Waring: The sample size, 99511 is not equal to the target sample size, 100000.\n",
      "Waring: The sample size, 99999 is not equal to the target sample size, 100000.\n",
      "Waring: The sample size, 99999 is not equal to the target sample size, 100000.\n",
      "Waring: The sample size, 99999 is not equal to the target sample size, 100000.\n",
      "Waring: The sample size, 74821 is not equal to the target sample size, 100000.\n",
      "Waring: The sample size, 95170 is not equal to the target sample size, 100000.\n",
      "Waring: The sample size, 88352 is not equal to the target sample size, 100000.\n",
      "Waring: The sample size, 93649 is not equal to the target sample size, 100000.\n",
      "Waring: The sample size, 99999 is not equal to the target sample size, 100000.\n",
      "Waring: The sample size, 99999 is not equal to the target sample size, 100000.\n",
      "Waring: The sample size, 99999 is not equal to the target sample size, 100000.\n",
      "Waring: The sample size, 89550 is not equal to the target sample size, 100000.\n",
      "Waring: The sample size, 99999 is not equal to the target sample size, 100000.\n",
      "Waring: The sample size, 91668 is not equal to the target sample size, 100000.\n",
      "Waring: The sample size, 99999 is not equal to the target sample size, 100000.\n",
      "Waring: The sample size, 99999 is not equal to the target sample size, 100000.\n",
      "Waring: The sample size, 99999 is not equal to the target sample size, 100000.\n",
      "Waring: The sample size, 99999 is not equal to the target sample size, 100000.\n",
      "Waring: The sample size, 99999 is not equal to the target sample size, 100000.\n",
      "Waring: The sample size, 99999 is not equal to the target sample size, 100000.\n",
      "Waring: The sample size, 78920 is not equal to the target sample size, 100000.\n",
      "Waring: The sample size, 94270 is not equal to the target sample size, 100000.\n",
      "Waring: The sample size, 90252 is not equal to the target sample size, 100000.\n",
      "Waring: The sample size, 89450 is not equal to the target sample size, 100000.\n",
      "Waring: The sample size, 99999 is not equal to the target sample size, 100000.\n",
      "Waring: The sample size, 99999 is not equal to the target sample size, 100000.\n",
      "Waring: The sample size, 89550 is not equal to the target sample size, 100000.\n",
      "Waring: The sample size, 99999 is not equal to the target sample size, 100000.\n",
      "Waring: The sample size, 99999 is not equal to the target sample size, 100000.\n",
      "Waring: The sample size, 91268 is not equal to the target sample size, 100000.\n",
      "Waring: The sample size, 99999 is not equal to the target sample size, 100000.\n",
      "Waring: The sample size, 99999 is not equal to the target sample size, 100000.\n",
      "Waring: The sample size, 99999 is not equal to the target sample size, 100000.\n",
      "Waring: The sample size, 99999 is not equal to the target sample size, 100000.\n",
      "Waring: The sample size, 99999 is not equal to the target sample size, 100000.\n",
      "Waring: The sample size, 80420 is not equal to the target sample size, 100000.\n",
      "Waring: The sample size, 91970 is not equal to the target sample size, 100000.\n",
      "Waring: The sample size, 90852 is not equal to the target sample size, 100000.\n",
      "Waring: The sample size, 95250 is not equal to the target sample size, 100000.\n",
      "Waring: The sample size, 99999 is not equal to the target sample size, 100000.\n",
      "Waring: The sample size, 99999 is not equal to the target sample size, 100000.\n",
      "Waring: The sample size, 99999 is not equal to the target sample size, 100000.\n",
      "Waring: The sample size, 89550 is not equal to the target sample size, 100000.\n",
      "Waring: The sample size, 92269 is not equal to the target sample size, 100000.\n",
      "Waring: The sample size, 99999 is not equal to the target sample size, 100000.\n",
      "Waring: The sample size, 99999 is not equal to the target sample size, 100000.\n",
      "Waring: The sample size, 99999 is not equal to the target sample size, 100000.\n",
      "Waring: The sample size, 79620 is not equal to the target sample size, 100000.\n",
      "Waring: The sample size, 92970 is not equal to the target sample size, 100000.\n",
      "Waring: The sample size, 99999 is not equal to the target sample size, 100000.\n",
      "Waring: The sample size, 90652 is not equal to the target sample size, 100000.\n",
      "Waring: The sample size, 99999 is not equal to the target sample size, 100000.\n",
      "Waring: The sample size, 94949 is not equal to the target sample size, 100000.\n",
      "Waring: The sample size, 99999 is not equal to the target sample size, 100000.\n",
      "Waring: The sample size, 99999 is not equal to the target sample size, 100000.\n",
      "Waring: The sample size, 99999 is not equal to the target sample size, 100000.\n",
      "Waring: The sample size, 99999 is not equal to the target sample size, 100000.\n",
      "Waring: The sample size, 89550 is not equal to the target sample size, 100000.\n",
      "Waring: The sample size, 99999 is not equal to the target sample size, 100000.\n",
      "Waring: The sample size, 93569 is not equal to the target sample size, 100000.\n",
      "Waring: The sample size, 99999 is not equal to the target sample size, 100000.\n",
      "Waring: The sample size, 99999 is not equal to the target sample size, 100000.\n",
      "Waring: The sample size, 99999 is not equal to the target sample size, 100000.\n",
      "Waring: The sample size, 99999 is not equal to the target sample size, 100000.\n",
      "Waring: The sample size, 77321 is not equal to the target sample size, 100000.\n",
      "Waring: The sample size, 94370 is not equal to the target sample size, 100000.\n",
      "Waring: The sample size, 94752 is not equal to the target sample size, 100000.\n",
      "Waring: The sample size, 90050 is not equal to the target sample size, 100000.\n",
      "Waring: The sample size, 99999 is not equal to the target sample size, 100000.\n",
      "Waring: The sample size, 99999 is not equal to the target sample size, 100000.\n",
      "Waring: The sample size, 89550 is not equal to the target sample size, 100000.\n",
      "Waring: The sample size, 92068 is not equal to the target sample size, 100000.\n",
      "Waring: The sample size, 99999 is not equal to the target sample size, 100000.\n",
      "Waring: The sample size, 99999 is not equal to the target sample size, 100000.\n",
      "Waring: The sample size, 99999 is not equal to the target sample size, 100000.\n",
      "Waring: The sample size, 99999 is not equal to the target sample size, 100000.\n",
      "Waring: The sample size, 99999 is not equal to the target sample size, 100000.\n",
      "Waring: The sample size, 78121 is not equal to the target sample size, 100000.\n",
      "Waring: The sample size, 95270 is not equal to the target sample size, 100000.\n",
      "Waring: The sample size, 89552 is not equal to the target sample size, 100000.\n",
      "Waring: The sample size, 99999 is not equal to the target sample size, 100000.\n",
      "Waring: The sample size, 89150 is not equal to the target sample size, 100000.\n",
      "Waring: The sample size, 99999 is not equal to the target sample size, 100000.\n",
      "Waring: The sample size, 99999 is not equal to the target sample size, 100000.\n",
      "Waring: The sample size, 99999 is not equal to the target sample size, 100000.\n",
      "Waring: The sample size, 89550 is not equal to the target sample size, 100000.\n",
      "Waring: The sample size, 88669 is not equal to the target sample size, 100000.\n",
      "Waring: The sample size, 99999 is not equal to the target sample size, 100000.\n",
      "Waring: The sample size, 99999 is not equal to the target sample size, 100000.\n",
      "Waring: The sample size, 99999 is not equal to the target sample size, 100000.\n",
      "Waring: The sample size, 99999 is not equal to the target sample size, 100000.\n",
      "Waring: The sample size, 78421 is not equal to the target sample size, 100000.\n",
      "Waring: The sample size, 94870 is not equal to the target sample size, 100000.\n",
      "Waring: The sample size, 90252 is not equal to the target sample size, 100000.\n",
      "Waring: The sample size, 99999 is not equal to the target sample size, 100000.\n",
      "Waring: The sample size, 92949 is not equal to the target sample size, 100000.\n",
      "Waring: The sample size, 99999 is not equal to the target sample size, 100000.\n",
      "Waring: The sample size, 89550 is not equal to the target sample size, 100000.\n",
      "Waring: The sample size, 89669 is not equal to the target sample size, 100000.\n",
      "Waring: The sample size, 99999 is not equal to the target sample size, 100000.\n",
      "Waring: The sample size, 99999 is not equal to the target sample size, 100000.\n",
      "Waring: The sample size, 99999 is not equal to the target sample size, 100000.\n",
      "Waring: The sample size, 99999 is not equal to the target sample size, 100000.\n",
      "Waring: The sample size, 99999 is not equal to the target sample size, 100000.\n",
      "Waring: The sample size, 80220 is not equal to the target sample size, 100000.\n",
      "Waring: The sample size, 93970 is not equal to the target sample size, 100000.\n",
      "Waring: The sample size, 92551 is not equal to the target sample size, 100000.\n",
      "Waring: The sample size, 91650 is not equal to the target sample size, 100000.\n",
      "Waring: The sample size, 89550 is not equal to the target sample size, 100000.\n",
      "Waring: The sample size, 89769 is not equal to the target sample size, 100000.\n",
      "Waring: The sample size, 99999 is not equal to the target sample size, 100000.\n",
      "Waring: The sample size, 99999 is not equal to the target sample size, 100000.\n",
      "Waring: The sample size, 99999 is not equal to the target sample size, 100000.\n",
      "Waring: The sample size, 76521 is not equal to the target sample size, 100000.\n",
      "Waring: The sample size, 91670 is not equal to the target sample size, 100000.\n",
      "Waring: The sample size, 91251 is not equal to the target sample size, 100000.\n",
      "Waring: The sample size, 99999 is not equal to the target sample size, 100000.\n",
      "Waring: The sample size, 91950 is not equal to the target sample size, 100000.\n",
      "Waring: The sample size, 99999 is not equal to the target sample size, 100000.\n",
      "Waring: The sample size, 89550 is not equal to the target sample size, 100000.\n",
      "Waring: The sample size, 99983 is not equal to the target sample size, 100000.\n",
      "Waring: The sample size, 99999 is not equal to the target sample size, 100000.\n",
      "Waring: The sample size, 87869 is not equal to the target sample size, 100000.\n",
      "Waring: The sample size, 99999 is not equal to the target sample size, 100000.\n",
      "Waring: The sample size, 99999 is not equal to the target sample size, 100000.\n",
      "Waring: The sample size, 99999 is not equal to the target sample size, 100000.\n",
      "Waring: The sample size, 99999 is not equal to the target sample size, 100000.\n",
      "Waring: The sample size, 99999 is not equal to the target sample size, 100000.\n",
      "Waring: The sample size, 99999 is not equal to the target sample size, 100000.\n",
      "Waring: The sample size, 99999 is not equal to the target sample size, 100000.\n",
      "Waring: The sample size, 99999 is not equal to the target sample size, 100000.\n",
      "Waring: The sample size, 76921 is not equal to the target sample size, 100000.\n",
      "Waring: The sample size, 93870 is not equal to the target sample size, 100000.\n",
      "Waring: The sample size, 90852 is not equal to the target sample size, 100000.\n",
      "Waring: The sample size, 99999 is not equal to the target sample size, 100000.\n",
      "Waring: The sample size, 91550 is not equal to the target sample size, 100000.\n",
      "Waring: The sample size, 99999 is not equal to the target sample size, 100000.\n",
      "Waring: The sample size, 99999 is not equal to the target sample size, 100000.\n",
      "Waring: The sample size, 99999 is not equal to the target sample size, 100000.\n",
      "Waring: The sample size, 89550 is not equal to the target sample size, 100000.\n",
      "Waring: The sample size, 89669 is not equal to the target sample size, 100000.\n",
      "Waring: The sample size, 99999 is not equal to the target sample size, 100000.\n",
      "Waring: The sample size, 99999 is not equal to the target sample size, 100000.\n",
      "Waring: The sample size, 99999 is not equal to the target sample size, 100000.\n",
      "Waring: The sample size, 99999 is not equal to the target sample size, 100000.\n",
      "Waring: The sample size, 76621 is not equal to the target sample size, 100000.\n",
      "Waring: The sample size, 95370 is not equal to the target sample size, 100000.\n",
      "Waring: The sample size, 91051 is not equal to the target sample size, 100000.\n",
      "Waring: The sample size, 92250 is not equal to the target sample size, 100000.\n",
      "Waring: The sample size, 99999 is not equal to the target sample size, 100000.\n",
      "Waring: The sample size, 89550 is not equal to the target sample size, 100000.\n",
      "Waring: The sample size, 90568 is not equal to the target sample size, 100000.\n",
      "Waring: The sample size, 99999 is not equal to the target sample size, 100000.\n",
      "Waring: The sample size, 99999 is not equal to the target sample size, 100000.\n",
      "Waring: The sample size, 99999 is not equal to the target sample size, 100000.\n",
      "Waring: The sample size, 99999 is not equal to the target sample size, 100000.\n",
      "Waring: The sample size, 81221 is not equal to the target sample size, 100000.\n",
      "Waring: The sample size, 93270 is not equal to the target sample size, 100000.\n",
      "Waring: The sample size, 92251 is not equal to the target sample size, 100000.\n",
      "Waring: The sample size, 93949 is not equal to the target sample size, 100000.\n",
      "Waring: The sample size, 99999 is not equal to the target sample size, 100000.\n",
      "Waring: The sample size, 89550 is not equal to the target sample size, 100000.\n",
      "Waring: The sample size, 90568 is not equal to the target sample size, 100000.\n",
      "Waring: The sample size, 99999 is not equal to the target sample size, 100000.\n",
      "Waring: The sample size, 99999 is not equal to the target sample size, 100000.\n",
      "Waring: The sample size, 99999 is not equal to the target sample size, 100000.\n",
      "Waring: The sample size, 99999 is not equal to the target sample size, 100000.\n",
      "Waring: The sample size, 99999 is not equal to the target sample size, 100000.\n",
      "Waring: The sample size, 78221 is not equal to the target sample size, 100000.\n",
      "Waring: The sample size, 94470 is not equal to the target sample size, 100000.\n",
      "Waring: The sample size, 89852 is not equal to the target sample size, 100000.\n",
      "Waring: The sample size, 99999 is not equal to the target sample size, 100000.\n",
      "Waring: The sample size, 91050 is not equal to the target sample size, 100000.\n",
      "Waring: The sample size, 99999 is not equal to the target sample size, 100000.\n",
      "Waring: The sample size, 89550 is not equal to the target sample size, 100000.\n",
      "Waring: The sample size, 99999 is not equal to the target sample size, 100000.\n",
      "Waring: The sample size, 92269 is not equal to the target sample size, 100000.\n",
      "Waring: The sample size, 99999 is not equal to the target sample size, 100000.\n",
      "Waring: The sample size, 99999 is not equal to the target sample size, 100000.\n",
      "Waring: The sample size, 99999 is not equal to the target sample size, 100000.\n",
      "Waring: The sample size, 99999 is not equal to the target sample size, 100000.\n",
      "Waring: The sample size, 99999 is not equal to the target sample size, 100000.\n",
      "Waring: The sample size, 99999 is not equal to the target sample size, 100000.\n",
      "Waring: The sample size, 77121 is not equal to the target sample size, 100000.\n",
      "Waring: The sample size, 93670 is not equal to the target sample size, 100000.\n",
      "Waring: The sample size, 89952 is not equal to the target sample size, 100000.\n",
      "Waring: The sample size, 91950 is not equal to the target sample size, 100000.\n",
      "Waring: The sample size, 99999 is not equal to the target sample size, 100000.\n",
      "Waring: The sample size, 89550 is not equal to the target sample size, 100000.\n",
      "Waring: The sample size, 88669 is not equal to the target sample size, 100000.\n",
      "Waring: The sample size, 99999 is not equal to the target sample size, 100000.\n",
      "Waring: The sample size, 99999 is not equal to the target sample size, 100000.\n",
      "Waring: The sample size, 99999 is not equal to the target sample size, 100000.\n",
      "Waring: The sample size, 99999 is not equal to the target sample size, 100000.\n",
      "Waring: The sample size, 80520 is not equal to the target sample size, 100000.\n",
      "Waring: The sample size, 95070 is not equal to the target sample size, 100000.\n",
      "Waring: The sample size, 91951 is not equal to the target sample size, 100000.\n",
      "Waring: The sample size, 93549 is not equal to the target sample size, 100000.\n",
      "Waring: The sample size, 99999 is not equal to the target sample size, 100000.\n",
      "Waring: The sample size, 99999 is not equal to the target sample size, 100000.\n",
      "Waring: The sample size, 89550 is not equal to the target sample size, 100000.\n",
      "Waring: The sample size, 90768 is not equal to the target sample size, 100000.\n",
      "Waring: The sample size, 99999 is not equal to the target sample size, 100000.\n",
      "Waring: The sample size, 99999 is not equal to the target sample size, 100000.\n",
      "Waring: The sample size, 99999 is not equal to the target sample size, 100000.\n",
      "Waring: The sample size, 99999 is not equal to the target sample size, 100000.\n",
      "Waring: The sample size, 79120 is not equal to the target sample size, 100000.\n",
      "Waring: The sample size, 95470 is not equal to the target sample size, 100000.\n",
      "Waring: The sample size, 91951 is not equal to the target sample size, 100000.\n",
      "Waring: The sample size, 93749 is not equal to the target sample size, 100000.\n",
      "Waring: The sample size, 99999 is not equal to the target sample size, 100000.\n",
      "Waring: The sample size, 99999 is not equal to the target sample size, 100000.\n",
      "Waring: The sample size, 99999 is not equal to the target sample size, 100000.\n",
      "Waring: The sample size, 89550 is not equal to the target sample size, 100000.\n",
      "Waring: The sample size, 89769 is not equal to the target sample size, 100000.\n",
      "Waring: The sample size, 99999 is not equal to the target sample size, 100000.\n",
      "Waring: The sample size, 99999 is not equal to the target sample size, 100000.\n",
      "Waring: The sample size, 75621 is not equal to the target sample size, 100000.\n",
      "Waring: The sample size, 94170 is not equal to the target sample size, 100000.\n",
      "Waring: The sample size, 90652 is not equal to the target sample size, 100000.\n",
      "Waring: The sample size, 93549 is not equal to the target sample size, 100000.\n",
      "Waring: The sample size, 99999 is not equal to the target sample size, 100000.\n",
      "Waring: The sample size, 99999 is not equal to the target sample size, 100000.\n",
      "Waring: The sample size, 99999 is not equal to the target sample size, 100000.\n",
      "Waring: The sample size, 89550 is not equal to the target sample size, 100000.\n",
      "Waring: The sample size, 99999 is not equal to the target sample size, 100000.\n",
      "Waring: The sample size, 99999 is not equal to the target sample size, 100000.\n",
      "Waring: The sample size, 90668 is not equal to the target sample size, 100000.\n",
      "Waring: The sample size, 99999 is not equal to the target sample size, 100000.\n",
      "Waring: The sample size, 99999 is not equal to the target sample size, 100000.\n",
      "Waring: The sample size, 99999 is not equal to the target sample size, 100000.\n",
      "Waring: The sample size, 99999 is not equal to the target sample size, 100000.\n",
      "Waring: The sample size, 78820 is not equal to the target sample size, 100000.\n",
      "Waring: The sample size, 91170 is not equal to the target sample size, 100000.\n",
      "Waring: The sample size, 91751 is not equal to the target sample size, 100000.\n",
      "Waring: The sample size, 99999 is not equal to the target sample size, 100000.\n",
      "Waring: The sample size, 94849 is not equal to the target sample size, 100000.\n",
      "Waring: The sample size, 89550 is not equal to the target sample size, 100000.\n",
      "Waring: The sample size, 99999 is not equal to the target sample size, 100000.\n",
      "Waring: The sample size, 90968 is not equal to the target sample size, 100000.\n",
      "Waring: The sample size, 99999 is not equal to the target sample size, 100000.\n",
      "Waring: The sample size, 99999 is not equal to the target sample size, 100000.\n",
      "Waring: The sample size, 99999 is not equal to the target sample size, 100000.\n",
      "Waring: The sample size, 99999 is not equal to the target sample size, 100000.\n",
      "Waring: The sample size, 99999 is not equal to the target sample size, 100000.\n",
      "Waring: The sample size, 76621 is not equal to the target sample size, 100000.\n",
      "Waring: The sample size, 95070 is not equal to the target sample size, 100000.\n",
      "Waring: The sample size, 92051 is not equal to the target sample size, 100000.\n",
      "Waring: The sample size, 99999 is not equal to the target sample size, 100000.\n",
      "Waring: The sample size, 90750 is not equal to the target sample size, 100000.\n",
      "Waring: The sample size, 99999 is not equal to the target sample size, 100000.\n",
      "Waring: The sample size, 99999 is not equal to the target sample size, 100000.\n",
      "Waring: The sample size, 89550 is not equal to the target sample size, 100000.\n",
      "Waring: The sample size, 89469 is not equal to the target sample size, 100000.\n",
      "Waring: The sample size, 99411 is not equal to the target sample size, 100000.\n",
      "Waring: The sample size, 99999 is not equal to the target sample size, 100000.\n",
      "Waring: The sample size, 99999 is not equal to the target sample size, 100000.\n",
      "Waring: The sample size, 79020 is not equal to the target sample size, 100000.\n",
      "Waring: The sample size, 90570 is not equal to the target sample size, 100000.\n",
      "Waring: The sample size, 89852 is not equal to the target sample size, 100000.\n",
      "Waring: The sample size, 99999 is not equal to the target sample size, 100000.\n",
      "Waring: The sample size, 92850 is not equal to the target sample size, 100000.\n",
      "Waring: The sample size, 99999 is not equal to the target sample size, 100000.\n",
      "Waring: The sample size, 89550 is not equal to the target sample size, 100000.\n",
      "Waring: The sample size, 99999 is not equal to the target sample size, 100000.\n",
      "Waring: The sample size, 90468 is not equal to the target sample size, 100000.\n",
      "Waring: The sample size, 99999 is not equal to the target sample size, 100000.\n",
      "Waring: The sample size, 99999 is not equal to the target sample size, 100000.\n",
      "Waring: The sample size, 99999 is not equal to the target sample size, 100000.\n",
      "Waring: The sample size, 99999 is not equal to the target sample size, 100000.\n",
      "Waring: The sample size, 99999 is not equal to the target sample size, 100000.\n",
      "Waring: The sample size, 99999 is not equal to the target sample size, 100000.\n",
      "Waring: The sample size, 99999 is not equal to the target sample size, 100000.\n",
      "Waring: The sample size, 76721 is not equal to the target sample size, 100000.\n",
      "Waring: The sample size, 96369 is not equal to the target sample size, 100000.\n",
      "Waring: The sample size, 90552 is not equal to the target sample size, 100000.\n",
      "Waring: The sample size, 91250 is not equal to the target sample size, 100000.\n",
      "Waring: The sample size, 99999 is not equal to the target sample size, 100000.\n",
      "Waring: The sample size, 89550 is not equal to the target sample size, 100000.\n",
      "Waring: The sample size, 89869 is not equal to the target sample size, 100000.\n",
      "Waring: The sample size, 99999 is not equal to the target sample size, 100000.\n",
      "Waring: The sample size, 99999 is not equal to the target sample size, 100000.\n",
      "Waring: The sample size, 99999 is not equal to the target sample size, 100000.\n",
      "Waring: The sample size, 99999 is not equal to the target sample size, 100000.\n",
      "Waring: The sample size, 76421 is not equal to the target sample size, 100000.\n",
      "Waring: The sample size, 92270 is not equal to the target sample size, 100000.\n",
      "Waring: The sample size, 90452 is not equal to the target sample size, 100000.\n",
      "Waring: The sample size, 90650 is not equal to the target sample size, 100000.\n",
      "Waring: The sample size, 99999 is not equal to the target sample size, 100000.\n",
      "Waring: The sample size, 99999 is not equal to the target sample size, 100000.\n",
      "Waring: The sample size, 89550 is not equal to the target sample size, 100000.\n",
      "Waring: The sample size, 89968 is not equal to the target sample size, 100000.\n",
      "Waring: The sample size, 99999 is not equal to the target sample size, 100000.\n",
      "Waring: The sample size, 99999 is not equal to the target sample size, 100000.\n",
      "Waring: The sample size, 99999 is not equal to the target sample size, 100000.\n",
      "Waring: The sample size, 99999 is not equal to the target sample size, 100000.\n",
      "Waring: The sample size, 99999 is not equal to the target sample size, 100000.\n",
      "Waring: The sample size, 99999 is not equal to the target sample size, 100000.\n",
      "Waring: The sample size, 99999 is not equal to the target sample size, 100000.\n",
      "Waring: The sample size, 74721 is not equal to the target sample size, 100000.\n",
      "Waring: The sample size, 92270 is not equal to the target sample size, 100000.\n",
      "Waring: The sample size, 89852 is not equal to the target sample size, 100000.\n",
      "Waring: The sample size, 90450 is not equal to the target sample size, 100000.\n",
      "Waring: The sample size, 89550 is not equal to the target sample size, 100000.\n",
      "Waring: The sample size, 91968 is not equal to the target sample size, 100000.\n",
      "Waring: The sample size, 99999 is not equal to the target sample size, 100000.\n",
      "Waring: The sample size, 99999 is not equal to the target sample size, 100000.\n",
      "Waring: The sample size, 99999 is not equal to the target sample size, 100000.\n",
      "Waring: The sample size, 99999 is not equal to the target sample size, 100000.\n",
      "Waring: The sample size, 76421 is not equal to the target sample size, 100000.\n",
      "Waring: The sample size, 90970 is not equal to the target sample size, 100000.\n",
      "Waring: The sample size, 88152 is not equal to the target sample size, 100000.\n",
      "Waring: The sample size, 99999 is not equal to the target sample size, 100000.\n",
      "Waring: The sample size, 92850 is not equal to the target sample size, 100000.\n",
      "Waring: The sample size, 99999 is not equal to the target sample size, 100000.\n",
      "Waring: The sample size, 99999 is not equal to the target sample size, 100000.\n",
      "Waring: The sample size, 89550 is not equal to the target sample size, 100000.\n",
      "Waring: The sample size, 99999 is not equal to the target sample size, 100000.\n",
      "Waring: The sample size, 91968 is not equal to the target sample size, 100000.\n",
      "Waring: The sample size, 99999 is not equal to the target sample size, 100000.\n",
      "Waring: The sample size, 99999 is not equal to the target sample size, 100000.\n",
      "Waring: The sample size, 99999 is not equal to the target sample size, 100000.\n",
      "Waring: The sample size, 99999 is not equal to the target sample size, 100000.\n",
      "Waring: The sample size, 79520 is not equal to the target sample size, 100000.\n",
      "Waring: The sample size, 94170 is not equal to the target sample size, 100000.\n",
      "Waring: The sample size, 90452 is not equal to the target sample size, 100000.\n",
      "Waring: The sample size, 99999 is not equal to the target sample size, 100000.\n",
      "Waring: The sample size, 92150 is not equal to the target sample size, 100000.\n",
      "Waring: The sample size, 99999 is not equal to the target sample size, 100000.\n",
      "Waring: The sample size, 99999 is not equal to the target sample size, 100000.\n",
      "Waring: The sample size, 99999 is not equal to the target sample size, 100000.\n",
      "Waring: The sample size, 99999 is not equal to the target sample size, 100000.\n",
      "Waring: The sample size, 89550 is not equal to the target sample size, 100000.\n",
      "Waring: The sample size, 99999 is not equal to the target sample size, 100000.\n",
      "Waring: The sample size, 89669 is not equal to the target sample size, 100000.\n",
      "Waring: The sample size, 99999 is not equal to the target sample size, 100000.\n",
      "Waring: The sample size, 99999 is not equal to the target sample size, 100000.\n",
      "Waring: The sample size, 99999 is not equal to the target sample size, 100000.\n",
      "Waring: The sample size, 99999 is not equal to the target sample size, 100000.\n",
      "Waring: The sample size, 77821 is not equal to the target sample size, 100000.\n",
      "Waring: The sample size, 94970 is not equal to the target sample size, 100000.\n",
      "Waring: The sample size, 89652 is not equal to the target sample size, 100000.\n",
      "Waring: The sample size, 90850 is not equal to the target sample size, 100000.\n",
      "Waring: The sample size, 99999 is not equal to the target sample size, 100000.\n",
      "Waring: The sample size, 89550 is not equal to the target sample size, 100000.\n",
      "Waring: The sample size, 88069 is not equal to the target sample size, 100000.\n",
      "Waring: The sample size, 99999 is not equal to the target sample size, 100000.\n",
      "Waring: The sample size, 99999 is not equal to the target sample size, 100000.\n",
      "Waring: The sample size, 99999 is not equal to the target sample size, 100000.\n",
      "Waring: The sample size, 99999 is not equal to the target sample size, 100000.\n",
      "Waring: The sample size, 99999 is not equal to the target sample size, 100000.\n",
      "Waring: The sample size, 78621 is not equal to the target sample size, 100000.\n",
      "Waring: The sample size, 94170 is not equal to the target sample size, 100000.\n",
      "Waring: The sample size, 91551 is not equal to the target sample size, 100000.\n",
      "Waring: The sample size, 90150 is not equal to the target sample size, 100000.\n",
      "Waring: The sample size, 99999 is not equal to the target sample size, 100000.\n",
      "Waring: The sample size, 89550 is not equal to the target sample size, 100000.\n",
      "Waring: The sample size, 99999 is not equal to the target sample size, 100000.\n",
      "Waring: The sample size, 92269 is not equal to the target sample size, 100000.\n",
      "Waring: The sample size, 99999 is not equal to the target sample size, 100000.\n",
      "Waring: The sample size, 99999 is not equal to the target sample size, 100000.\n",
      "Waring: The sample size, 99999 is not equal to the target sample size, 100000.\n",
      "Waring: The sample size, 99999 is not equal to the target sample size, 100000.\n",
      "Waring: The sample size, 99999 is not equal to the target sample size, 100000.\n",
      "Waring: The sample size, 99999 is not equal to the target sample size, 100000.\n",
      "Waring: The sample size, 99999 is not equal to the target sample size, 100000.\n",
      "Waring: The sample size, 77721 is not equal to the target sample size, 100000.\n",
      "Waring: The sample size, 93470 is not equal to the target sample size, 100000.\n",
      "Waring: The sample size, 90152 is not equal to the target sample size, 100000.\n",
      "Waring: The sample size, 99999 is not equal to the target sample size, 100000.\n",
      "Waring: The sample size, 90750 is not equal to the target sample size, 100000.\n",
      "Waring: The sample size, 99999 is not equal to the target sample size, 100000.\n",
      "Waring: The sample size, 99999 is not equal to the target sample size, 100000.\n",
      "Waring: The sample size, 89550 is not equal to the target sample size, 100000.\n",
      "Waring: The sample size, 91668 is not equal to the target sample size, 100000.\n",
      "Waring: The sample size, 99999 is not equal to the target sample size, 100000.\n",
      "Waring: The sample size, 99999 is not equal to the target sample size, 100000.\n",
      "Waring: The sample size, 99999 is not equal to the target sample size, 100000.\n",
      "Waring: The sample size, 99999 is not equal to the target sample size, 100000.\n",
      "Waring: The sample size, 77821 is not equal to the target sample size, 100000.\n",
      "Waring: The sample size, 93970 is not equal to the target sample size, 100000.\n",
      "Waring: The sample size, 90552 is not equal to the target sample size, 100000.\n",
      "Waring: The sample size, 99999 is not equal to the target sample size, 100000.\n",
      "Waring: The sample size, 92850 is not equal to the target sample size, 100000.\n",
      "Waring: The sample size, 99999 is not equal to the target sample size, 100000.\n",
      "Waring: The sample size, 99999 is not equal to the target sample size, 100000.\n",
      "Waring: The sample size, 89550 is not equal to the target sample size, 100000.\n",
      "Waring: The sample size, 99999 is not equal to the target sample size, 100000.\n",
      "Waring: The sample size, 88569 is not equal to the target sample size, 100000.\n",
      "Waring: The sample size, 99999 is not equal to the target sample size, 100000.\n",
      "Waring: The sample size, 99999 is not equal to the target sample size, 100000.\n",
      "Waring: The sample size, 99999 is not equal to the target sample size, 100000.\n",
      "Waring: The sample size, 76621 is not equal to the target sample size, 100000.\n",
      "Waring: The sample size, 96569 is not equal to the target sample size, 100000.\n",
      "Waring: The sample size, 90552 is not equal to the target sample size, 100000.\n",
      "Waring: The sample size, 91750 is not equal to the target sample size, 100000.\n",
      "Waring: The sample size, 99999 is not equal to the target sample size, 100000.\n",
      "Waring: The sample size, 99999 is not equal to the target sample size, 100000.\n",
      "Waring: The sample size, 89550 is not equal to the target sample size, 100000.\n",
      "Waring: The sample size, 88269 is not equal to the target sample size, 100000.\n",
      "Waring: The sample size, 99999 is not equal to the target sample size, 100000.\n",
      "Waring: The sample size, 99999 is not equal to the target sample size, 100000.\n",
      "Waring: The sample size, 80120 is not equal to the target sample size, 100000.\n",
      "Waring: The sample size, 94270 is not equal to the target sample size, 100000.\n",
      "Waring: The sample size, 89252 is not equal to the target sample size, 100000.\n",
      "Waring: The sample size, 93849 is not equal to the target sample size, 100000.\n",
      "Waring: The sample size, 99999 is not equal to the target sample size, 100000.\n",
      "Waring: The sample size, 99999 is not equal to the target sample size, 100000.\n",
      "Waring: The sample size, 89550 is not equal to the target sample size, 100000.\n",
      "Waring: The sample size, 99999 is not equal to the target sample size, 100000.\n",
      "Waring: The sample size, 91168 is not equal to the target sample size, 100000.\n",
      "Waring: The sample size, 99999 is not equal to the target sample size, 100000.\n",
      "Waring: The sample size, 99999 is not equal to the target sample size, 100000.\n",
      "Waring: The sample size, 99999 is not equal to the target sample size, 100000.\n",
      "Waring: The sample size, 77621 is not equal to the target sample size, 100000.\n",
      "Waring: The sample size, 92670 is not equal to the target sample size, 100000.\n",
      "Waring: The sample size, 89352 is not equal to the target sample size, 100000.\n",
      "Waring: The sample size, 91950 is not equal to the target sample size, 100000.\n",
      "Waring: The sample size, 89550 is not equal to the target sample size, 100000.\n",
      "Waring: The sample size, 99999 is not equal to the target sample size, 100000.\n",
      "Waring: The sample size, 99999 is not equal to the target sample size, 100000.\n",
      "Waring: The sample size, 86069 is not equal to the target sample size, 100000.\n",
      "Waring: The sample size, 99999 is not equal to the target sample size, 100000.\n",
      "Waring: The sample size, 99999 is not equal to the target sample size, 100000.\n",
      "Waring: The sample size, 99999 is not equal to the target sample size, 100000.\n",
      "Waring: The sample size, 99999 is not equal to the target sample size, 100000.\n",
      "Waring: The sample size, 77421 is not equal to the target sample size, 100000.\n",
      "Waring: The sample size, 96369 is not equal to the target sample size, 100000.\n",
      "Waring: The sample size, 91851 is not equal to the target sample size, 100000.\n",
      "Waring: The sample size, 99999 is not equal to the target sample size, 100000.\n",
      "Waring: The sample size, 90550 is not equal to the target sample size, 100000.\n",
      "Waring: The sample size, 99999 is not equal to the target sample size, 100000.\n",
      "Waring: The sample size, 89550 is not equal to the target sample size, 100000.\n",
      "Waring: The sample size, 92769 is not equal to the target sample size, 100000.\n",
      "Waring: The sample size, 99999 is not equal to the target sample size, 100000.\n",
      "Waring: The sample size, 99999 is not equal to the target sample size, 100000.\n",
      "Waring: The sample size, 99999 is not equal to the target sample size, 100000.\n",
      "Waring: The sample size, 99999 is not equal to the target sample size, 100000.\n",
      "Waring: The sample size, 77621 is not equal to the target sample size, 100000.\n",
      "Waring: The sample size, 93970 is not equal to the target sample size, 100000.\n",
      "Waring: The sample size, 88252 is not equal to the target sample size, 100000.\n",
      "Waring: The sample size, 99999 is not equal to the target sample size, 100000.\n",
      "Waring: The sample size, 94449 is not equal to the target sample size, 100000.\n",
      "Waring: The sample size, 99999 is not equal to the target sample size, 100000.\n",
      "Waring: The sample size, 99999 is not equal to the target sample size, 100000.\n",
      "Waring: The sample size, 89550 is not equal to the target sample size, 100000.\n",
      "Waring: The sample size, 89869 is not equal to the target sample size, 100000.\n",
      "Waring: The sample size, 99999 is not equal to the target sample size, 100000.\n",
      "Waring: The sample size, 99999 is not equal to the target sample size, 100000.\n",
      "Waring: The sample size, 99999 is not equal to the target sample size, 100000.\n",
      "Waring: The sample size, 99999 is not equal to the target sample size, 100000.\n",
      "Waring: The sample size, 99999 is not equal to the target sample size, 100000.\n",
      "Waring: The sample size, 76321 is not equal to the target sample size, 100000.\n",
      "Waring: The sample size, 93470 is not equal to the target sample size, 100000.\n",
      "Waring: The sample size, 90752 is not equal to the target sample size, 100000.\n",
      "Waring: The sample size, 99999 is not equal to the target sample size, 100000.\n",
      "Waring: The sample size, 93049 is not equal to the target sample size, 100000.\n",
      "Waring: The sample size, 89550 is not equal to the target sample size, 100000.\n",
      "Waring: The sample size, 89669 is not equal to the target sample size, 100000.\n",
      "Waring: The sample size, 99999 is not equal to the target sample size, 100000.\n",
      "Waring: The sample size, 99999 is not equal to the target sample size, 100000.\n",
      "Waring: The sample size, 99999 is not equal to the target sample size, 100000.\n",
      "Waring: The sample size, 99999 is not equal to the target sample size, 100000.\n",
      "Waring: The sample size, 76521 is not equal to the target sample size, 100000.\n",
      "Waring: The sample size, 93370 is not equal to the target sample size, 100000.\n",
      "Waring: The sample size, 99999 is not equal to the target sample size, 100000.\n",
      "Waring: The sample size, 90852 is not equal to the target sample size, 100000.\n",
      "Waring: The sample size, 94149 is not equal to the target sample size, 100000.\n",
      "Waring: The sample size, 99999 is not equal to the target sample size, 100000.\n",
      "Waring: The sample size, 99999 is not equal to the target sample size, 100000.\n",
      "Waring: The sample size, 89550 is not equal to the target sample size, 100000.\n",
      "Waring: The sample size, 90268 is not equal to the target sample size, 100000.\n",
      "Waring: The sample size, 99999 is not equal to the target sample size, 100000.\n",
      "Waring: The sample size, 99999 is not equal to the target sample size, 100000.\n",
      "Waring: The sample size, 99999 is not equal to the target sample size, 100000.\n",
      "Waring: The sample size, 99999 is not equal to the target sample size, 100000.\n",
      "Waring: The sample size, 78920 is not equal to the target sample size, 100000.\n",
      "Waring: The sample size, 92870 is not equal to the target sample size, 100000.\n",
      "Waring: The sample size, 92051 is not equal to the target sample size, 100000.\n",
      "Waring: The sample size, 99999 is not equal to the target sample size, 100000.\n",
      "Waring: The sample size, 91450 is not equal to the target sample size, 100000.\n",
      "Waring: The sample size, 99999 is not equal to the target sample size, 100000.\n",
      "Waring: The sample size, 99999 is not equal to the target sample size, 100000.\n",
      "Waring: The sample size, 99999 is not equal to the target sample size, 100000.\n",
      "Waring: The sample size, 89550 is not equal to the target sample size, 100000.\n",
      "Waring: The sample size, 99999 is not equal to the target sample size, 100000.\n",
      "Waring: The sample size, 90368 is not equal to the target sample size, 100000.\n",
      "Waring: The sample size, 99999 is not equal to the target sample size, 100000.\n",
      "Waring: The sample size, 99999 is not equal to the target sample size, 100000.\n",
      "Waring: The sample size, 79920 is not equal to the target sample size, 100000.\n",
      "Waring: The sample size, 94170 is not equal to the target sample size, 100000.\n",
      "Waring: The sample size, 92251 is not equal to the target sample size, 100000.\n",
      "Waring: The sample size, 93749 is not equal to the target sample size, 100000.\n",
      "Waring: The sample size, 99999 is not equal to the target sample size, 100000.\n",
      "Waring: The sample size, 99999 is not equal to the target sample size, 100000.\n",
      "Waring: The sample size, 89550 is not equal to the target sample size, 100000.\n",
      "Waring: The sample size, 99999 is not equal to the target sample size, 100000.\n",
      "Waring: The sample size, 89069 is not equal to the target sample size, 100000.\n",
      "Waring: The sample size, 99999 is not equal to the target sample size, 100000.\n",
      "Waring: The sample size, 99999 is not equal to the target sample size, 100000.\n",
      "Waring: The sample size, 99999 is not equal to the target sample size, 100000.\n",
      "Waring: The sample size, 99999 is not equal to the target sample size, 100000.\n",
      "Waring: The sample size, 74921 is not equal to the target sample size, 100000.\n",
      "Waring: The sample size, 96169 is not equal to the target sample size, 100000.\n",
      "Waring: The sample size, 88452 is not equal to the target sample size, 100000.\n",
      "Waring: The sample size, 99999 is not equal to the target sample size, 100000.\n",
      "Waring: The sample size, 89850 is not equal to the target sample size, 100000.\n",
      "Waring: The sample size, 99999 is not equal to the target sample size, 100000.\n",
      "Waring: The sample size, 99999 is not equal to the target sample size, 100000.\n",
      "Waring: The sample size, 89550 is not equal to the target sample size, 100000.\n",
      "Waring: The sample size, 99999 is not equal to the target sample size, 100000.\n",
      "Waring: The sample size, 87569 is not equal to the target sample size, 100000.\n",
      "Waring: The sample size, 99999 is not equal to the target sample size, 100000.\n",
      "Waring: The sample size, 99999 is not equal to the target sample size, 100000.\n",
      "Waring: The sample size, 99999 is not equal to the target sample size, 100000.\n",
      "Waring: The sample size, 75121 is not equal to the target sample size, 100000.\n",
      "Waring: The sample size, 95070 is not equal to the target sample size, 100000.\n",
      "Waring: The sample size, 92951 is not equal to the target sample size, 100000.\n",
      "Waring: The sample size, 92949 is not equal to the target sample size, 100000.\n",
      "Waring: The sample size, 99999 is not equal to the target sample size, 100000.\n",
      "Waring: The sample size, 99999 is not equal to the target sample size, 100000.\n",
      "Waring: The sample size, 89550 is not equal to the target sample size, 100000.\n",
      "Waring: The sample size, 99999 is not equal to the target sample size, 100000.\n",
      "Waring: The sample size, 91068 is not equal to the target sample size, 100000.\n",
      "Waring: The sample size, 99411 is not equal to the target sample size, 100000.\n",
      "Waring: The sample size, 99999 is not equal to the target sample size, 100000.\n",
      "Waring: The sample size, 99999 is not equal to the target sample size, 100000.\n",
      "Waring: The sample size, 99999 is not equal to the target sample size, 100000.\n",
      "Waring: The sample size, 99999 is not equal to the target sample size, 100000.\n",
      "Waring: The sample size, 99999 is not equal to the target sample size, 100000.\n",
      "Waring: The sample size, 99999 is not equal to the target sample size, 100000.\n",
      "Waring: The sample size, 99999 is not equal to the target sample size, 100000.\n",
      "Waring: The sample size, 81221 is not equal to the target sample size, 100000.\n",
      "Waring: The sample size, 94170 is not equal to the target sample size, 100000.\n",
      "Waring: The sample size, 94252 is not equal to the target sample size, 100000.\n",
      "Waring: The sample size, 93149 is not equal to the target sample size, 100000.\n",
      "Waring: The sample size, 99999 is not equal to the target sample size, 100000.\n",
      "Waring: The sample size, 99999 is not equal to the target sample size, 100000.\n",
      "Waring: The sample size, 89550 is not equal to the target sample size, 100000.\n",
      "Waring: The sample size, 91568 is not equal to the target sample size, 100000.\n",
      "Waring: The sample size, 99999 is not equal to the target sample size, 100000.\n",
      "Waring: The sample size, 99999 is not equal to the target sample size, 100000.\n",
      "Waring: The sample size, 99999 is not equal to the target sample size, 100000.\n",
      "Waring: The sample size, 75621 is not equal to the target sample size, 100000.\n",
      "Waring: The sample size, 98370 is not equal to the target sample size, 100000.\n",
      "Waring: The sample size, 88852 is not equal to the target sample size, 100000.\n",
      "Waring: The sample size, 92850 is not equal to the target sample size, 100000.\n",
      "Waring: The sample size, 99999 is not equal to the target sample size, 100000.\n",
      "Waring: The sample size, 99999 is not equal to the target sample size, 100000.\n",
      "Waring: The sample size, 99999 is not equal to the target sample size, 100000.\n",
      "Waring: The sample size, 89550 is not equal to the target sample size, 100000.\n",
      "Waring: The sample size, 99999 is not equal to the target sample size, 100000.\n",
      "Waring: The sample size, 99999 is not equal to the target sample size, 100000.\n",
      "Waring: The sample size, 88869 is not equal to the target sample size, 100000.\n",
      "Waring: The sample size, 99999 is not equal to the target sample size, 100000.\n",
      "Waring: The sample size, 99999 is not equal to the target sample size, 100000.\n",
      "Waring: The sample size, 99999 is not equal to the target sample size, 100000.\n",
      "Waring: The sample size, 99999 is not equal to the target sample size, 100000.\n",
      "Waring: The sample size, 99999 is not equal to the target sample size, 100000.\n",
      "Waring: The sample size, 76021 is not equal to the target sample size, 100000.\n",
      "Waring: The sample size, 94270 is not equal to the target sample size, 100000.\n",
      "Waring: The sample size, 91851 is not equal to the target sample size, 100000.\n",
      "Waring: The sample size, 92150 is not equal to the target sample size, 100000.\n",
      "Waring: The sample size, 99999 is not equal to the target sample size, 100000.\n",
      "Waring: The sample size, 99999 is not equal to the target sample size, 100000.\n",
      "Waring: The sample size, 99999 is not equal to the target sample size, 100000.\n",
      "Waring: The sample size, 89550 is not equal to the target sample size, 100000.\n",
      "Waring: The sample size, 89669 is not equal to the target sample size, 100000.\n",
      "Waring: The sample size, 99999 is not equal to the target sample size, 100000.\n",
      "Waring: The sample size, 99999 is not equal to the target sample size, 100000.\n",
      "Waring: The sample size, 99999 is not equal to the target sample size, 100000.\n",
      "Waring: The sample size, 99999 is not equal to the target sample size, 100000.\n",
      "Waring: The sample size, 99999 is not equal to the target sample size, 100000.\n",
      "Waring: The sample size, 77321 is not equal to the target sample size, 100000.\n",
      "Waring: The sample size, 94470 is not equal to the target sample size, 100000.\n",
      "Waring: The sample size, 88752 is not equal to the target sample size, 100000.\n",
      "Waring: The sample size, 99999 is not equal to the target sample size, 100000.\n",
      "Waring: The sample size, 92550 is not equal to the target sample size, 100000.\n",
      "Waring: The sample size, 99999 is not equal to the target sample size, 100000.\n",
      "Waring: The sample size, 89550 is not equal to the target sample size, 100000.\n",
      "Waring: The sample size, 99999 is not equal to the target sample size, 100000.\n",
      "Waring: The sample size, 89669 is not equal to the target sample size, 100000.\n",
      "Waring: The sample size, 99999 is not equal to the target sample size, 100000.\n",
      "Waring: The sample size, 99999 is not equal to the target sample size, 100000.\n",
      "Waring: The sample size, 99999 is not equal to the target sample size, 100000.\n",
      "Waring: The sample size, 99999 is not equal to the target sample size, 100000.\n",
      "Waring: The sample size, 99999 is not equal to the target sample size, 100000.\n",
      "Waring: The sample size, 99999 is not equal to the target sample size, 100000.\n",
      "Waring: The sample size, 99999 is not equal to the target sample size, 100000.\n",
      "Waring: The sample size, 77021 is not equal to the target sample size, 100000.\n",
      "Waring: The sample size, 91470 is not equal to the target sample size, 100000.\n",
      "Waring: The sample size, 91651 is not equal to the target sample size, 100000.\n",
      "Waring: The sample size, 94649 is not equal to the target sample size, 100000.\n",
      "Waring: The sample size, 99999 is not equal to the target sample size, 100000.\n",
      "Waring: The sample size, 89550 is not equal to the target sample size, 100000.\n",
      "Waring: The sample size, 90668 is not equal to the target sample size, 100000.\n",
      "Waring: The sample size, 99999 is not equal to the target sample size, 100000.\n",
      "Waring: The sample size, 99999 is not equal to the target sample size, 100000.\n",
      "Waring: The sample size, 99999 is not equal to the target sample size, 100000.\n",
      "Waring: The sample size, 99999 is not equal to the target sample size, 100000.\n",
      "Waring: The sample size, 77121 is not equal to the target sample size, 100000.\n",
      "Waring: The sample size, 92870 is not equal to the target sample size, 100000.\n",
      "Waring: The sample size, 93652 is not equal to the target sample size, 100000.\n",
      "Waring: The sample size, 99999 is not equal to the target sample size, 100000.\n",
      "Waring: The sample size, 93249 is not equal to the target sample size, 100000.\n",
      "Waring: The sample size, 99999 is not equal to the target sample size, 100000.\n",
      "Waring: The sample size, 89550 is not equal to the target sample size, 100000.\n",
      "Waring: The sample size, 91468 is not equal to the target sample size, 100000.\n",
      "Waring: The sample size, 99999 is not equal to the target sample size, 100000.\n",
      "Waring: The sample size, 99999 is not equal to the target sample size, 100000.\n",
      "Waring: The sample size, 99999 is not equal to the target sample size, 100000.\n",
      "Waring: The sample size, 99999 is not equal to the target sample size, 100000.\n",
      "Waring: The sample size, 99999 is not equal to the target sample size, 100000.\n",
      "Waring: The sample size, 77921 is not equal to the target sample size, 100000.\n",
      "Waring: The sample size, 96969 is not equal to the target sample size, 100000.\n",
      "Waring: The sample size, 92151 is not equal to the target sample size, 100000.\n",
      "Waring: The sample size, 91350 is not equal to the target sample size, 100000.\n",
      "Waring: The sample size, 99999 is not equal to the target sample size, 100000.\n",
      "Waring: The sample size, 89550 is not equal to the target sample size, 100000.\n",
      "Waring: The sample size, 99999 is not equal to the target sample size, 100000.\n",
      "Waring: The sample size, 90568 is not equal to the target sample size, 100000.\n",
      "Waring: The sample size, 99999 is not equal to the target sample size, 100000.\n",
      "Waring: The sample size, 99999 is not equal to the target sample size, 100000.\n",
      "Waring: The sample size, 99999 is not equal to the target sample size, 100000.\n",
      "Waring: The sample size, 99999 is not equal to the target sample size, 100000.\n",
      "Waring: The sample size, 99999 is not equal to the target sample size, 100000.\n",
      "Waring: The sample size, 99999 is not equal to the target sample size, 100000.\n",
      "Waring: The sample size, 80220 is not equal to the target sample size, 100000.\n",
      "Waring: The sample size, 94570 is not equal to the target sample size, 100000.\n",
      "Waring: The sample size, 90652 is not equal to the target sample size, 100000.\n",
      "Waring: The sample size, 99999 is not equal to the target sample size, 100000.\n",
      "Waring: The sample size, 91050 is not equal to the target sample size, 100000.\n",
      "Waring: The sample size, 99999 is not equal to the target sample size, 100000.\n",
      "Waring: The sample size, 89550 is not equal to the target sample size, 100000.\n",
      "Waring: The sample size, 99999 is not equal to the target sample size, 100000.\n",
      "Waring: The sample size, 99999 is not equal to the target sample size, 100000.\n",
      "Waring: The sample size, 90168 is not equal to the target sample size, 100000.\n",
      "Waring: The sample size, 99999 is not equal to the target sample size, 100000.\n",
      "Waring: The sample size, 99999 is not equal to the target sample size, 100000.\n",
      "Waring: The sample size, 77821 is not equal to the target sample size, 100000.\n",
      "Waring: The sample size, 95570 is not equal to the target sample size, 100000.\n",
      "Waring: The sample size, 88652 is not equal to the target sample size, 100000.\n",
      "Waring: The sample size, 99999 is not equal to the target sample size, 100000.\n",
      "Waring: The sample size, 92949 is not equal to the target sample size, 100000.\n",
      "Waring: The sample size, 99999 is not equal to the target sample size, 100000.\n",
      "Waring: The sample size, 99999 is not equal to the target sample size, 100000.\n",
      "Waring: The sample size, 99999 is not equal to the target sample size, 100000.\n",
      "Waring: The sample size, 89550 is not equal to the target sample size, 100000.\n",
      "Waring: The sample size, 91168 is not equal to the target sample size, 100000.\n",
      "Waring: The sample size, 99999 is not equal to the target sample size, 100000.\n",
      "Waring: The sample size, 99999 is not equal to the target sample size, 100000.\n",
      "Waring: The sample size, 99999 is not equal to the target sample size, 100000.\n",
      "Waring: The sample size, 76321 is not equal to the target sample size, 100000.\n",
      "Waring: The sample size, 93670 is not equal to the target sample size, 100000.\n",
      "Waring: The sample size, 89752 is not equal to the target sample size, 100000.\n",
      "Waring: The sample size, 94649 is not equal to the target sample size, 100000.\n",
      "Waring: The sample size, 99999 is not equal to the target sample size, 100000.\n",
      "Waring: The sample size, 89550 is not equal to the target sample size, 100000.\n",
      "Waring: The sample size, 99999 is not equal to the target sample size, 100000.\n",
      "Waring: The sample size, 88269 is not equal to the target sample size, 100000.\n",
      "Waring: The sample size, 99999 is not equal to the target sample size, 100000.\n",
      "Waring: The sample size, 99999 is not equal to the target sample size, 100000.\n",
      "Waring: The sample size, 99999 is not equal to the target sample size, 100000.\n",
      "Waring: The sample size, 99999 is not equal to the target sample size, 100000.\n",
      "Waring: The sample size, 99999 is not equal to the target sample size, 100000.\n",
      "Waring: The sample size, 76721 is not equal to the target sample size, 100000.\n",
      "Waring: The sample size, 97669 is not equal to the target sample size, 100000.\n",
      "Waring: The sample size, 93552 is not equal to the target sample size, 100000.\n",
      "Waring: The sample size, 93249 is not equal to the target sample size, 100000.\n",
      "Waring: The sample size, 99999 is not equal to the target sample size, 100000.\n",
      "Waring: The sample size, 99999 is not equal to the target sample size, 100000.\n",
      "Waring: The sample size, 89550 is not equal to the target sample size, 100000.\n",
      "Waring: The sample size, 92869 is not equal to the target sample size, 100000.\n",
      "Waring: The sample size, 99999 is not equal to the target sample size, 100000.\n",
      "Waring: The sample size, 99999 is not equal to the target sample size, 100000.\n",
      "Waring: The sample size, 99999 is not equal to the target sample size, 100000.\n",
      "Waring: The sample size, 99999 is not equal to the target sample size, 100000.\n",
      "Waring: The sample size, 99999 is not equal to the target sample size, 100000.\n",
      "Waring: The sample size, 78521 is not equal to the target sample size, 100000.\n",
      "Waring: The sample size, 92070 is not equal to the target sample size, 100000.\n",
      "Waring: The sample size, 89452 is not equal to the target sample size, 100000.\n",
      "Waring: The sample size, 93249 is not equal to the target sample size, 100000.\n",
      "Waring: The sample size, 99999 is not equal to the target sample size, 100000.\n",
      "Waring: The sample size, 89550 is not equal to the target sample size, 100000.\n",
      "Waring: The sample size, 92068 is not equal to the target sample size, 100000.\n",
      "Waring: The sample size, 99999 is not equal to the target sample size, 100000.\n",
      "Waring: The sample size, 99999 is not equal to the target sample size, 100000.\n",
      "Waring: The sample size, 99999 is not equal to the target sample size, 100000.\n",
      "Waring: The sample size, 99999 is not equal to the target sample size, 100000.\n",
      "Waring: The sample size, 78721 is not equal to the target sample size, 100000.\n",
      "Waring: The sample size, 96769 is not equal to the target sample size, 100000.\n",
      "Waring: The sample size, 89952 is not equal to the target sample size, 100000.\n",
      "Waring: The sample size, 95049 is not equal to the target sample size, 100000.\n",
      "Waring: The sample size, 99999 is not equal to the target sample size, 100000.\n",
      "Waring: The sample size, 99999 is not equal to the target sample size, 100000.\n",
      "Waring: The sample size, 89550 is not equal to the target sample size, 100000.\n",
      "Waring: The sample size, 89769 is not equal to the target sample size, 100000.\n",
      "Waring: The sample size, 99999 is not equal to the target sample size, 100000.\n",
      "Waring: The sample size, 99999 is not equal to the target sample size, 100000.\n",
      "Waring: The sample size, 99999 is not equal to the target sample size, 100000.\n",
      "Waring: The sample size, 99999 is not equal to the target sample size, 100000.\n",
      "Waring: The sample size, 99999 is not equal to the target sample size, 100000.\n",
      "Waring: The sample size, 99999 is not equal to the target sample size, 100000.\n",
      "Waring: The sample size, 78621 is not equal to the target sample size, 100000.\n",
      "Waring: The sample size, 94970 is not equal to the target sample size, 100000.\n",
      "Waring: The sample size, 99999 is not equal to the target sample size, 100000.\n",
      "Waring: The sample size, 89952 is not equal to the target sample size, 100000.\n",
      "Waring: The sample size, 93149 is not equal to the target sample size, 100000.\n",
      "Waring: The sample size, 99999 is not equal to the target sample size, 100000.\n",
      "Waring: The sample size, 99999 is not equal to the target sample size, 100000.\n",
      "Waring: The sample size, 99999 is not equal to the target sample size, 100000.\n",
      "Waring: The sample size, 89550 is not equal to the target sample size, 100000.\n",
      "Waring: The sample size, 99999 is not equal to the target sample size, 100000.\n",
      "Waring: The sample size, 99999 is not equal to the target sample size, 100000.\n",
      "Waring: The sample size, 90168 is not equal to the target sample size, 100000.\n",
      "Waring: The sample size, 99999 is not equal to the target sample size, 100000.\n",
      "Waring: The sample size, 99999 is not equal to the target sample size, 100000.\n",
      "Waring: The sample size, 99999 is not equal to the target sample size, 100000.\n",
      "Waring: The sample size, 99999 is not equal to the target sample size, 100000.\n",
      "Waring: The sample size, 74621 is not equal to the target sample size, 100000.\n",
      "Waring: The sample size, 93270 is not equal to the target sample size, 100000.\n",
      "Waring: The sample size, 89052 is not equal to the target sample size, 100000.\n",
      "Waring: The sample size, 99999 is not equal to the target sample size, 100000.\n",
      "Waring: The sample size, 93049 is not equal to the target sample size, 100000.\n",
      "Waring: The sample size, 99999 is not equal to the target sample size, 100000.\n",
      "Waring: The sample size, 89550 is not equal to the target sample size, 100000.\n",
      "Waring: The sample size, 89869 is not equal to the target sample size, 100000.\n",
      "Waring: The sample size, 99999 is not equal to the target sample size, 100000.\n",
      "Waring: The sample size, 99999 is not equal to the target sample size, 100000.\n",
      "Waring: The sample size, 99999 is not equal to the target sample size, 100000.\n",
      "Waring: The sample size, 79520 is not equal to the target sample size, 100000.\n",
      "Waring: The sample size, 93170 is not equal to the target sample size, 100000.\n",
      "Waring: The sample size, 88252 is not equal to the target sample size, 100000.\n",
      "Waring: The sample size, 94949 is not equal to the target sample size, 100000.\n",
      "Waring: The sample size, 99999 is not equal to the target sample size, 100000.\n",
      "Waring: The sample size, 99999 is not equal to the target sample size, 100000.\n",
      "Waring: The sample size, 99999 is not equal to the target sample size, 100000.\n",
      "Waring: The sample size, 89550 is not equal to the target sample size, 100000.\n",
      "Waring: The sample size, 88169 is not equal to the target sample size, 100000.\n",
      "Waring: The sample size, 99999 is not equal to the target sample size, 100000.\n",
      "Waring: The sample size, 99999 is not equal to the target sample size, 100000.\n",
      "Waring: The sample size, 99999 is not equal to the target sample size, 100000.\n",
      "Waring: The sample size, 99999 is not equal to the target sample size, 100000.\n",
      "Waring: The sample size, 78421 is not equal to the target sample size, 100000.\n",
      "Waring: The sample size, 95070 is not equal to the target sample size, 100000.\n",
      "Waring: The sample size, 89552 is not equal to the target sample size, 100000.\n",
      "Waring: The sample size, 92949 is not equal to the target sample size, 100000.\n",
      "Waring: The sample size, 99999 is not equal to the target sample size, 100000.\n",
      "Waring: The sample size, 99999 is not equal to the target sample size, 100000.\n",
      "Waring: The sample size, 89550 is not equal to the target sample size, 100000.\n",
      "Waring: The sample size, 91568 is not equal to the target sample size, 100000.\n",
      "Waring: The sample size, 99999 is not equal to the target sample size, 100000.\n",
      "Waring: The sample size, 99999 is not equal to the target sample size, 100000.\n",
      "Waring: The sample size, 99999 is not equal to the target sample size, 100000.\n",
      "Waring: The sample size, 77821 is not equal to the target sample size, 100000.\n",
      "Waring: The sample size, 93470 is not equal to the target sample size, 100000.\n",
      "Waring: The sample size, 88552 is not equal to the target sample size, 100000.\n",
      "Waring: The sample size, 99999 is not equal to the target sample size, 100000.\n",
      "Waring: The sample size, 92450 is not equal to the target sample size, 100000.\n",
      "Waring: The sample size, 99999 is not equal to the target sample size, 100000.\n",
      "Waring: The sample size, 89550 is not equal to the target sample size, 100000.\n",
      "Waring: The sample size, 90868 is not equal to the target sample size, 100000.\n",
      "Waring: The sample size, 99999 is not equal to the target sample size, 100000.\n",
      "Waring: The sample size, 99999 is not equal to the target sample size, 100000.\n",
      "Waring: The sample size, 76921 is not equal to the target sample size, 100000.\n",
      "Waring: The sample size, 96469 is not equal to the target sample size, 100000.\n",
      "Waring: The sample size, 90752 is not equal to the target sample size, 100000.\n",
      "Waring: The sample size, 99999 is not equal to the target sample size, 100000.\n",
      "Waring: The sample size, 92650 is not equal to the target sample size, 100000.\n",
      "Waring: The sample size, 99999 is not equal to the target sample size, 100000.\n",
      "Waring: The sample size, 89550 is not equal to the target sample size, 100000.\n",
      "Waring: The sample size, 99999 is not equal to the target sample size, 100000.\n",
      "Waring: The sample size, 92068 is not equal to the target sample size, 100000.\n",
      "Waring: The sample size, 99999 is not equal to the target sample size, 100000.\n",
      "Waring: The sample size, 99999 is not equal to the target sample size, 100000.\n",
      "Waring: The sample size, 99999 is not equal to the target sample size, 100000.\n",
      "Waring: The sample size, 76021 is not equal to the target sample size, 100000.\n",
      "Waring: The sample size, 93870 is not equal to the target sample size, 100000.\n",
      "Waring: The sample size, 90352 is not equal to the target sample size, 100000.\n",
      "Waring: The sample size, 93649 is not equal to the target sample size, 100000.\n",
      "Waring: The sample size, 99999 is not equal to the target sample size, 100000.\n",
      "Waring: The sample size, 99999 is not equal to the target sample size, 100000.\n",
      "Waring: The sample size, 89550 is not equal to the target sample size, 100000.\n",
      "Waring: The sample size, 99999 is not equal to the target sample size, 100000.\n",
      "Waring: The sample size, 89369 is not equal to the target sample size, 100000.\n",
      "Waring: The sample size, 99999 is not equal to the target sample size, 100000.\n",
      "Waring: The sample size, 99999 is not equal to the target sample size, 100000.\n",
      "Waring: The sample size, 99999 is not equal to the target sample size, 100000.\n",
      "Waring: The sample size, 99999 is not equal to the target sample size, 100000.\n",
      "Waring: The sample size, 99999 is not equal to the target sample size, 100000.\n",
      "Waring: The sample size, 78721 is not equal to the target sample size, 100000.\n",
      "Waring: The sample size, 94970 is not equal to the target sample size, 100000.\n",
      "Waring: The sample size, 91951 is not equal to the target sample size, 100000.\n",
      "Waring: The sample size, 99999 is not equal to the target sample size, 100000.\n",
      "Waring: The sample size, 91950 is not equal to the target sample size, 100000.\n",
      "Waring: The sample size, 99999 is not equal to the target sample size, 100000.\n",
      "Waring: The sample size, 99999 is not equal to the target sample size, 100000.\n",
      "Waring: The sample size, 89550 is not equal to the target sample size, 100000.\n",
      "Waring: The sample size, 91568 is not equal to the target sample size, 100000.\n",
      "Waring: The sample size, 99999 is not equal to the target sample size, 100000.\n",
      "Waring: The sample size, 99999 is not equal to the target sample size, 100000.\n",
      "Waring: The sample size, 99999 is not equal to the target sample size, 100000.\n",
      "Waring: The sample size, 99999 is not equal to the target sample size, 100000.\n",
      "Waring: The sample size, 76421 is not equal to the target sample size, 100000.\n",
      "Waring: The sample size, 94570 is not equal to the target sample size, 100000.\n",
      "Waring: The sample size, 91751 is not equal to the target sample size, 100000.\n",
      "Waring: The sample size, 99999 is not equal to the target sample size, 100000.\n",
      "Waring: The sample size, 90450 is not equal to the target sample size, 100000.\n",
      "Waring: The sample size, 99999 is not equal to the target sample size, 100000.\n",
      "Waring: The sample size, 89550 is not equal to the target sample size, 100000.\n",
      "Waring: The sample size, 90668 is not equal to the target sample size, 100000.\n",
      "Waring: The sample size, 99999 is not equal to the target sample size, 100000.\n",
      "Waring: The sample size, 99999 is not equal to the target sample size, 100000.\n",
      "Waring: The sample size, 99999 is not equal to the target sample size, 100000.\n",
      "Waring: The sample size, 77321 is not equal to the target sample size, 100000.\n",
      "Waring: The sample size, 95470 is not equal to the target sample size, 100000.\n",
      "Waring: The sample size, 91951 is not equal to the target sample size, 100000.\n",
      "Waring: The sample size, 99999 is not equal to the target sample size, 100000.\n",
      "Waring: The sample size, 91650 is not equal to the target sample size, 100000.\n",
      "Waring: The sample size, 99999 is not equal to the target sample size, 100000.\n",
      "Waring: The sample size, 99999 is not equal to the target sample size, 100000.\n",
      "Waring: The sample size, 89550 is not equal to the target sample size, 100000.\n",
      "Waring: The sample size, 99999 is not equal to the target sample size, 100000.\n",
      "Waring: The sample size, 99999 is not equal to the target sample size, 100000.\n",
      "Waring: The sample size, 88969 is not equal to the target sample size, 100000.\n",
      "Waring: The sample size, 99999 is not equal to the target sample size, 100000.\n",
      "Waring: The sample size, 99999 is not equal to the target sample size, 100000.\n",
      "Waring: The sample size, 77721 is not equal to the target sample size, 100000.\n",
      "Waring: The sample size, 92870 is not equal to the target sample size, 100000.\n",
      "Waring: The sample size, 89752 is not equal to the target sample size, 100000.\n",
      "Waring: The sample size, 99999 is not equal to the target sample size, 100000.\n",
      "Waring: The sample size, 95250 is not equal to the target sample size, 100000.\n",
      "Waring: The sample size, 99999 is not equal to the target sample size, 100000.\n",
      "Waring: The sample size, 99999 is not equal to the target sample size, 100000.\n",
      "Waring: The sample size, 89550 is not equal to the target sample size, 100000.\n",
      "Waring: The sample size, 99999 is not equal to the target sample size, 100000.\n",
      "Waring: The sample size, 92068 is not equal to the target sample size, 100000.\n",
      "Waring: The sample size, 99999 is not equal to the target sample size, 100000.\n",
      "Waring: The sample size, 99999 is not equal to the target sample size, 100000.\n",
      "Waring: The sample size, 99999 is not equal to the target sample size, 100000.\n",
      "Waring: The sample size, 99999 is not equal to the target sample size, 100000.\n",
      "Waring: The sample size, 99999 is not equal to the target sample size, 100000.\n",
      "Waring: The sample size, 99999 is not equal to the target sample size, 100000.\n",
      "Waring: The sample size, 99999 is not equal to the target sample size, 100000.\n",
      "Waring: The sample size, 80520 is not equal to the target sample size, 100000.\n",
      "Waring: The sample size, 95570 is not equal to the target sample size, 100000.\n",
      "Waring: The sample size, 92051 is not equal to the target sample size, 100000.\n",
      "Waring: The sample size, 99999 is not equal to the target sample size, 100000.\n",
      "Waring: The sample size, 92450 is not equal to the target sample size, 100000.\n",
      "Waring: The sample size, 99999 is not equal to the target sample size, 100000.\n",
      "Waring: The sample size, 99999 is not equal to the target sample size, 100000.\n",
      "Waring: The sample size, 99999 is not equal to the target sample size, 100000.\n",
      "Waring: The sample size, 99999 is not equal to the target sample size, 100000.\n",
      "Waring: The sample size, 99999 is not equal to the target sample size, 100000.\n",
      "Waring: The sample size, 89550 is not equal to the target sample size, 100000.\n",
      "Waring: The sample size, 91668 is not equal to the target sample size, 100000.\n",
      "Waring: The sample size, 99999 is not equal to the target sample size, 100000.\n",
      "Waring: The sample size, 99999 is not equal to the target sample size, 100000.\n",
      "Waring: The sample size, 99999 is not equal to the target sample size, 100000.\n",
      "Waring: The sample size, 99999 is not equal to the target sample size, 100000.\n",
      "Waring: The sample size, 76121 is not equal to the target sample size, 100000.\n",
      "Waring: The sample size, 96669 is not equal to the target sample size, 100000.\n",
      "Waring: The sample size, 88252 is not equal to the target sample size, 100000.\n",
      "Waring: The sample size, 99999 is not equal to the target sample size, 100000.\n",
      "Waring: The sample size, 91950 is not equal to the target sample size, 100000.\n",
      "Waring: The sample size, 99999 is not equal to the target sample size, 100000.\n",
      "Waring: The sample size, 89550 is not equal to the target sample size, 100000.\n",
      "Waring: The sample size, 90568 is not equal to the target sample size, 100000.\n",
      "Waring: The sample size, 99999 is not equal to the target sample size, 100000.\n",
      "Waring: The sample size, 99999 is not equal to the target sample size, 100000.\n",
      "Waring: The sample size, 99999 is not equal to the target sample size, 100000.\n",
      "Waring: The sample size, 79420 is not equal to the target sample size, 100000.\n",
      "Waring: The sample size, 95470 is not equal to the target sample size, 100000.\n",
      "Waring: The sample size, 91751 is not equal to the target sample size, 100000.\n",
      "Waring: The sample size, 99999 is not equal to the target sample size, 100000.\n",
      "Waring: The sample size, 93249 is not equal to the target sample size, 100000.\n",
      "Waring: The sample size, 99999 is not equal to the target sample size, 100000.\n",
      "Waring: The sample size, 99999 is not equal to the target sample size, 100000.\n",
      "Waring: The sample size, 99999 is not equal to the target sample size, 100000.\n",
      "Waring: The sample size, 89550 is not equal to the target sample size, 100000.\n",
      "Waring: The sample size, 89069 is not equal to the target sample size, 100000.\n",
      "Waring: The sample size, 99999 is not equal to the target sample size, 100000.\n",
      "Waring: The sample size, 99999 is not equal to the target sample size, 100000.\n",
      "Waring: The sample size, 99999 is not equal to the target sample size, 100000.\n",
      "Waring: The sample size, 76421 is not equal to the target sample size, 100000.\n",
      "Waring: The sample size, 92770 is not equal to the target sample size, 100000.\n",
      "Waring: The sample size, 90852 is not equal to the target sample size, 100000.\n",
      "Waring: The sample size, 94949 is not equal to the target sample size, 100000.\n",
      "Waring: The sample size, 99999 is not equal to the target sample size, 100000.\n",
      "Waring: The sample size, 99999 is not equal to the target sample size, 100000.\n",
      "Waring: The sample size, 99999 is not equal to the target sample size, 100000.\n",
      "Waring: The sample size, 99999 is not equal to the target sample size, 100000.\n",
      "Waring: The sample size, 89550 is not equal to the target sample size, 100000.\n",
      "Waring: The sample size, 99999 is not equal to the target sample size, 100000.\n",
      "Waring: The sample size, 99999 is not equal to the target sample size, 100000.\n",
      "Waring: The sample size, 92669 is not equal to the target sample size, 100000.\n",
      "Waring: The sample size, 99999 is not equal to the target sample size, 100000.\n",
      "Waring: The sample size, 99999 is not equal to the target sample size, 100000.\n",
      "Waring: The sample size, 99999 is not equal to the target sample size, 100000.\n",
      "Waring: The sample size, 99999 is not equal to the target sample size, 100000.\n",
      "Waring: The sample size, 79220 is not equal to the target sample size, 100000.\n",
      "Waring: The sample size, 97569 is not equal to the target sample size, 100000.\n",
      "Waring: The sample size, 86152 is not equal to the target sample size, 100000.\n",
      "Waring: The sample size, 99999 is not equal to the target sample size, 100000.\n",
      "Waring: The sample size, 93549 is not equal to the target sample size, 100000.\n",
      "Waring: The sample size, 99999 is not equal to the target sample size, 100000.\n",
      "Waring: The sample size, 89550 is not equal to the target sample size, 100000.\n",
      "Waring: The sample size, 91568 is not equal to the target sample size, 100000.\n",
      "Waring: The sample size, 99999 is not equal to the target sample size, 100000.\n",
      "Waring: The sample size, 99999 is not equal to the target sample size, 100000.\n",
      "Waring: The sample size, 99999 is not equal to the target sample size, 100000.\n",
      "Waring: The sample size, 76621 is not equal to the target sample size, 100000.\n",
      "Waring: The sample size, 94270 is not equal to the target sample size, 100000.\n",
      "Waring: The sample size, 89452 is not equal to the target sample size, 100000.\n",
      "Waring: The sample size, 91050 is not equal to the target sample size, 100000.\n",
      "Waring: The sample size, 99999 is not equal to the target sample size, 100000.\n",
      "Waring: The sample size, 99999 is not equal to the target sample size, 100000.\n",
      "Waring: The sample size, 89550 is not equal to the target sample size, 100000.\n",
      "Waring: The sample size, 99999 is not equal to the target sample size, 100000.\n",
      "Waring: The sample size, 89669 is not equal to the target sample size, 100000.\n",
      "Waring: The sample size, 99999 is not equal to the target sample size, 100000.\n",
      "Waring: The sample size, 99999 is not equal to the target sample size, 100000.\n",
      "Waring: The sample size, 99999 is not equal to the target sample size, 100000.\n",
      "Waring: The sample size, 99999 is not equal to the target sample size, 100000.\n",
      "Waring: The sample size, 75521 is not equal to the target sample size, 100000.\n",
      "Waring: The sample size, 94170 is not equal to the target sample size, 100000.\n",
      "Waring: The sample size, 89152 is not equal to the target sample size, 100000.\n",
      "Waring: The sample size, 99999 is not equal to the target sample size, 100000.\n",
      "Waring: The sample size, 91650 is not equal to the target sample size, 100000.\n",
      "Waring: The sample size, 99999 is not equal to the target sample size, 100000.\n",
      "Waring: The sample size, 89550 is not equal to the target sample size, 100000.\n",
      "Waring: The sample size, 90268 is not equal to the target sample size, 100000.\n",
      "Waring: The sample size, 99999 is not equal to the target sample size, 100000.\n",
      "Waring: The sample size, 99999 is not equal to the target sample size, 100000.\n",
      "Waring: The sample size, 99999 is not equal to the target sample size, 100000.\n",
      "Waring: The sample size, 99999 is not equal to the target sample size, 100000.\n",
      "Waring: The sample size, 99999 is not equal to the target sample size, 100000.\n",
      "Waring: The sample size, 77921 is not equal to the target sample size, 100000.\n",
      "Waring: The sample size, 94070 is not equal to the target sample size, 100000.\n",
      "Waring: The sample size, 86652 is not equal to the target sample size, 100000.\n",
      "Waring: The sample size, 99999 is not equal to the target sample size, 100000.\n",
      "Waring: The sample size, 91250 is not equal to the target sample size, 100000.\n",
      "Waring: The sample size, 99999 is not equal to the target sample size, 100000.\n",
      "Waring: The sample size, 89550 is not equal to the target sample size, 100000.\n",
      "Waring: The sample size, 99999 is not equal to the target sample size, 100000.\n",
      "Waring: The sample size, 99999 is not equal to the target sample size, 100000.\n",
      "Waring: The sample size, 90668 is not equal to the target sample size, 100000.\n",
      "Waring: The sample size, 99611 is not equal to the target sample size, 100000.\n",
      "Waring: The sample size, 99999 is not equal to the target sample size, 100000.\n",
      "Waring: The sample size, 99999 is not equal to the target sample size, 100000.\n",
      "Waring: The sample size, 99999 is not equal to the target sample size, 100000.\n",
      "Waring: The sample size, 99999 is not equal to the target sample size, 100000.\n",
      "Waring: The sample size, 79320 is not equal to the target sample size, 100000.\n",
      "Waring: The sample size, 91870 is not equal to the target sample size, 100000.\n",
      "Waring: The sample size, 90252 is not equal to the target sample size, 100000.\n",
      "Waring: The sample size, 91250 is not equal to the target sample size, 100000.\n",
      "Waring: The sample size, 99999 is not equal to the target sample size, 100000.\n",
      "Waring: The sample size, 99999 is not equal to the target sample size, 100000.\n",
      "Waring: The sample size, 89550 is not equal to the target sample size, 100000.\n",
      "Waring: The sample size, 90668 is not equal to the target sample size, 100000.\n",
      "Waring: The sample size, 99999 is not equal to the target sample size, 100000.\n",
      "Waring: The sample size, 99999 is not equal to the target sample size, 100000.\n",
      "Waring: The sample size, 99999 is not equal to the target sample size, 100000.\n",
      "Waring: The sample size, 99999 is not equal to the target sample size, 100000.\n",
      "Waring: The sample size, 78621 is not equal to the target sample size, 100000.\n",
      "Waring: The sample size, 94870 is not equal to the target sample size, 100000.\n",
      "Waring: The sample size, 92151 is not equal to the target sample size, 100000.\n",
      "Waring: The sample size, 91250 is not equal to the target sample size, 100000.\n",
      "Waring: The sample size, 99999 is not equal to the target sample size, 100000.\n",
      "Waring: The sample size, 89550 is not equal to the target sample size, 100000.\n",
      "Waring: The sample size, 99999 is not equal to the target sample size, 100000.\n",
      "Waring: The sample size, 90568 is not equal to the target sample size, 100000.\n",
      "Waring: The sample size, 99999 is not equal to the target sample size, 100000.\n",
      "Waring: The sample size, 99999 is not equal to the target sample size, 100000.\n",
      "Waring: The sample size, 99999 is not equal to the target sample size, 100000.\n",
      "Waring: The sample size, 78421 is not equal to the target sample size, 100000.\n",
      "Waring: The sample size, 94670 is not equal to the target sample size, 100000.\n",
      "Waring: The sample size, 91551 is not equal to the target sample size, 100000.\n",
      "Waring: The sample size, 99999 is not equal to the target sample size, 100000.\n",
      "Waring: The sample size, 91550 is not equal to the target sample size, 100000.\n",
      "Waring: The sample size, 99999 is not equal to the target sample size, 100000.\n",
      "Waring: The sample size, 99999 is not equal to the target sample size, 100000.\n",
      "Waring: The sample size, 89550 is not equal to the target sample size, 100000.\n",
      "Waring: The sample size, 90468 is not equal to the target sample size, 100000.\n",
      "Waring: The sample size, 99999 is not equal to the target sample size, 100000.\n",
      "Waring: The sample size, 99999 is not equal to the target sample size, 100000.\n",
      "Waring: The sample size, 99999 is not equal to the target sample size, 100000.\n",
      "Waring: The sample size, 99999 is not equal to the target sample size, 100000.\n",
      "Waring: The sample size, 99999 is not equal to the target sample size, 100000.\n",
      "Waring: The sample size, 77221 is not equal to the target sample size, 100000.\n",
      "Waring: The sample size, 96069 is not equal to the target sample size, 100000.\n",
      "Waring: The sample size, 92851 is not equal to the target sample size, 100000.\n",
      "Waring: The sample size, 99999 is not equal to the target sample size, 100000.\n",
      "Waring: The sample size, 92350 is not equal to the target sample size, 100000.\n",
      "Waring: The sample size, 99999 is not equal to the target sample size, 100000.\n",
      "Waring: The sample size, 99999 is not equal to the target sample size, 100000.\n",
      "Waring: The sample size, 89550 is not equal to the target sample size, 100000.\n",
      "Waring: The sample size, 99999 is not equal to the target sample size, 100000.\n",
      "Waring: The sample size, 88269 is not equal to the target sample size, 100000.\n",
      "Waring: The sample size, 99999 is not equal to the target sample size, 100000.\n",
      "Waring: The sample size, 99999 is not equal to the target sample size, 100000.\n",
      "Waring: The sample size, 99999 is not equal to the target sample size, 100000.\n",
      "Waring: The sample size, 77221 is not equal to the target sample size, 100000.\n",
      "Waring: The sample size, 96169 is not equal to the target sample size, 100000.\n",
      "Waring: The sample size, 90752 is not equal to the target sample size, 100000.\n",
      "Waring: The sample size, 92850 is not equal to the target sample size, 100000.\n",
      "Waring: The sample size, 99999 is not equal to the target sample size, 100000.\n",
      "Waring: The sample size, 99999 is not equal to the target sample size, 100000.\n",
      "Waring: The sample size, 99999 is not equal to the target sample size, 100000.\n",
      "Waring: The sample size, 89550 is not equal to the target sample size, 100000.\n",
      "Waring: The sample size, 90768 is not equal to the target sample size, 100000.\n",
      "Waring: The sample size, 99999 is not equal to the target sample size, 100000.\n",
      "Waring: The sample size, 99999 is not equal to the target sample size, 100000.\n",
      "Waring: The sample size, 99999 is not equal to the target sample size, 100000.\n",
      "Waring: The sample size, 99999 is not equal to the target sample size, 100000.\n",
      "Waring: The sample size, 76821 is not equal to the target sample size, 100000.\n",
      "Waring: The sample size, 96569 is not equal to the target sample size, 100000.\n",
      "Waring: The sample size, 99999 is not equal to the target sample size, 100000.\n",
      "Waring: The sample size, 90952 is not equal to the target sample size, 100000.\n",
      "Waring: The sample size, 99999 is not equal to the target sample size, 100000.\n",
      "Waring: The sample size, 91050 is not equal to the target sample size, 100000.\n",
      "Waring: The sample size, 99999 is not equal to the target sample size, 100000.\n",
      "Waring: The sample size, 99999 is not equal to the target sample size, 100000.\n",
      "Waring: The sample size, 99999 is not equal to the target sample size, 100000.\n",
      "Waring: The sample size, 89550 is not equal to the target sample size, 100000.\n",
      "Waring: The sample size, 90468 is not equal to the target sample size, 100000.\n",
      "Waring: The sample size, 99999 is not equal to the target sample size, 100000.\n",
      "Waring: The sample size, 99999 is not equal to the target sample size, 100000.\n",
      "Waring: The sample size, 99999 is not equal to the target sample size, 100000.\n",
      "Waring: The sample size, 99999 is not equal to the target sample size, 100000.\n",
      "Waring: The sample size, 77821 is not equal to the target sample size, 100000.\n",
      "Waring: The sample size, 96569 is not equal to the target sample size, 100000.\n",
      "Waring: The sample size, 89152 is not equal to the target sample size, 100000.\n",
      "Waring: The sample size, 91250 is not equal to the target sample size, 100000.\n",
      "Waring: The sample size, 99999 is not equal to the target sample size, 100000.\n",
      "Waring: The sample size, 99999 is not equal to the target sample size, 100000.\n",
      "Waring: The sample size, 99999 is not equal to the target sample size, 100000.\n",
      "Waring: The sample size, 89550 is not equal to the target sample size, 100000.\n",
      "Waring: The sample size, 89369 is not equal to the target sample size, 100000.\n",
      "Waring: The sample size, 99999 is not equal to the target sample size, 100000.\n",
      "Waring: The sample size, 99999 is not equal to the target sample size, 100000.\n",
      "Waring: The sample size, 99999 is not equal to the target sample size, 100000.\n",
      "Waring: The sample size, 77421 is not equal to the target sample size, 100000.\n",
      "Waring: The sample size, 94670 is not equal to the target sample size, 100000.\n",
      "Waring: The sample size, 90652 is not equal to the target sample size, 100000.\n",
      "Waring: The sample size, 99999 is not equal to the target sample size, 100000.\n",
      "Waring: The sample size, 93449 is not equal to the target sample size, 100000.\n",
      "Waring: The sample size, 99999 is not equal to the target sample size, 100000.\n",
      "Waring: The sample size, 99999 is not equal to the target sample size, 100000.\n",
      "Waring: The sample size, 99999 is not equal to the target sample size, 100000.\n",
      "Waring: The sample size, 89550 is not equal to the target sample size, 100000.\n",
      "Waring: The sample size, 99999 is not equal to the target sample size, 100000.\n",
      "Waring: The sample size, 99999 is not equal to the target sample size, 100000.\n",
      "Waring: The sample size, 88569 is not equal to the target sample size, 100000.\n",
      "Waring: The sample size, 99999 is not equal to the target sample size, 100000.\n",
      "Waring: The sample size, 99999 is not equal to the target sample size, 100000.\n",
      "Waring: The sample size, 99999 is not equal to the target sample size, 100000.\n",
      "Waring: The sample size, 99999 is not equal to the target sample size, 100000.\n",
      "Waring: The sample size, 74321 is not equal to the target sample size, 100000.\n",
      "Waring: The sample size, 92670 is not equal to the target sample size, 100000.\n",
      "Waring: The sample size, 89652 is not equal to the target sample size, 100000.\n",
      "Waring: The sample size, 99999 is not equal to the target sample size, 100000.\n",
      "Waring: The sample size, 92050 is not equal to the target sample size, 100000.\n",
      "Waring: The sample size, 89550 is not equal to the target sample size, 100000.\n",
      "Waring: The sample size, 99999 is not equal to the target sample size, 100000.\n",
      "Waring: The sample size, 91168 is not equal to the target sample size, 100000.\n",
      "Waring: The sample size, 99999 is not equal to the target sample size, 100000.\n",
      "Waring: The sample size, 99999 is not equal to the target sample size, 100000.\n",
      "Waring: The sample size, 99999 is not equal to the target sample size, 100000.\n",
      "Waring: The sample size, 99999 is not equal to the target sample size, 100000.\n",
      "Waring: The sample size, 99999 is not equal to the target sample size, 100000.\n",
      "Waring: The sample size, 77021 is not equal to the target sample size, 100000.\n",
      "Waring: The sample size, 92870 is not equal to the target sample size, 100000.\n",
      "Waring: The sample size, 90952 is not equal to the target sample size, 100000.\n",
      "Waring: The sample size, 92650 is not equal to the target sample size, 100000.\n",
      "Waring: The sample size, 99999 is not equal to the target sample size, 100000.\n",
      "Waring: The sample size, 99999 is not equal to the target sample size, 100000.\n",
      "Waring: The sample size, 99999 is not equal to the target sample size, 100000.\n",
      "Waring: The sample size, 89550 is not equal to the target sample size, 100000.\n",
      "Waring: The sample size, 91068 is not equal to the target sample size, 100000.\n",
      "Waring: The sample size, 99999 is not equal to the target sample size, 100000.\n",
      "Waring: The sample size, 99999 is not equal to the target sample size, 100000.\n",
      "Waring: The sample size, 99999 is not equal to the target sample size, 100000.\n",
      "Waring: The sample size, 99999 is not equal to the target sample size, 100000.\n",
      "Waring: The sample size, 76521 is not equal to the target sample size, 100000.\n",
      "Waring: The sample size, 93170 is not equal to the target sample size, 100000.\n",
      "Waring: The sample size, 92751 is not equal to the target sample size, 100000.\n",
      "Waring: The sample size, 93649 is not equal to the target sample size, 100000.\n",
      "Waring: The sample size, 99999 is not equal to the target sample size, 100000.\n",
      "Waring: The sample size, 99999 is not equal to the target sample size, 100000.\n",
      "Waring: The sample size, 99999 is not equal to the target sample size, 100000.\n",
      "Waring: The sample size, 89550 is not equal to the target sample size, 100000.\n",
      "Waring: The sample size, 91768 is not equal to the target sample size, 100000.\n",
      "Waring: The sample size, 99999 is not equal to the target sample size, 100000.\n",
      "Waring: The sample size, 99999 is not equal to the target sample size, 100000.\n",
      "Waring: The sample size, 99999 is not equal to the target sample size, 100000.\n",
      "Waring: The sample size, 99999 is not equal to the target sample size, 100000.\n",
      "Waring: The sample size, 75921 is not equal to the target sample size, 100000.\n",
      "Waring: The sample size, 97869 is not equal to the target sample size, 100000.\n",
      "Waring: The sample size, 92351 is not equal to the target sample size, 100000.\n",
      "Waring: The sample size, 90850 is not equal to the target sample size, 100000.\n",
      "Waring: The sample size, 99999 is not equal to the target sample size, 100000.\n",
      "Waring: The sample size, 99999 is not equal to the target sample size, 100000.\n",
      "Waring: The sample size, 89550 is not equal to the target sample size, 100000.\n",
      "Waring: The sample size, 99999 is not equal to the target sample size, 100000.\n",
      "Waring: The sample size, 90268 is not equal to the target sample size, 100000.\n",
      "Waring: The sample size, 99711 is not equal to the target sample size, 100000.\n",
      "Waring: The sample size, 99999 is not equal to the target sample size, 100000.\n",
      "Waring: The sample size, 99999 is not equal to the target sample size, 100000.\n",
      "Waring: The sample size, 99999 is not equal to the target sample size, 100000.\n",
      "Waring: The sample size, 78421 is not equal to the target sample size, 100000.\n",
      "Waring: The sample size, 93870 is not equal to the target sample size, 100000.\n",
      "Waring: The sample size, 89352 is not equal to the target sample size, 100000.\n",
      "Waring: The sample size, 94149 is not equal to the target sample size, 100000.\n",
      "Waring: The sample size, 99999 is not equal to the target sample size, 100000.\n",
      "Waring: The sample size, 99999 is not equal to the target sample size, 100000.\n",
      "Waring: The sample size, 89550 is not equal to the target sample size, 100000.\n",
      "Waring: The sample size, 91568 is not equal to the target sample size, 100000.\n",
      "Waring: The sample size, 99999 is not equal to the target sample size, 100000.\n",
      "Waring: The sample size, 99999 is not equal to the target sample size, 100000.\n",
      "Waring: The sample size, 99999 is not equal to the target sample size, 100000.\n",
      "Waring: The sample size, 99999 is not equal to the target sample size, 100000.\n",
      "Waring: The sample size, 80920 is not equal to the target sample size, 100000.\n",
      "Waring: The sample size, 94470 is not equal to the target sample size, 100000.\n",
      "Waring: The sample size, 89652 is not equal to the target sample size, 100000.\n",
      "Waring: The sample size, 89950 is not equal to the target sample size, 100000.\n",
      "Waring: The sample size, 99999 is not equal to the target sample size, 100000.\n",
      "Waring: The sample size, 99999 is not equal to the target sample size, 100000.\n",
      "Waring: The sample size, 99999 is not equal to the target sample size, 100000.\n",
      "Waring: The sample size, 89550 is not equal to the target sample size, 100000.\n",
      "Waring: The sample size, 99999 is not equal to the target sample size, 100000.\n",
      "Waring: The sample size, 89469 is not equal to the target sample size, 100000.\n",
      "Waring: The sample size, 99999 is not equal to the target sample size, 100000.\n",
      "Waring: The sample size, 99999 is not equal to the target sample size, 100000.\n",
      "Waring: The sample size, 99999 is not equal to the target sample size, 100000.\n",
      "Waring: The sample size, 99999 is not equal to the target sample size, 100000.\n",
      "Waring: The sample size, 99999 is not equal to the target sample size, 100000.\n",
      "Waring: The sample size, 78021 is not equal to the target sample size, 100000.\n",
      "Waring: The sample size, 91770 is not equal to the target sample size, 100000.\n",
      "Waring: The sample size, 91951 is not equal to the target sample size, 100000.\n",
      "Waring: The sample size, 99999 is not equal to the target sample size, 100000.\n",
      "Waring: The sample size, 94049 is not equal to the target sample size, 100000.\n",
      "Waring: The sample size, 99999 is not equal to the target sample size, 100000.\n",
      "Waring: The sample size, 89550 is not equal to the target sample size, 100000.\n",
      "Waring: The sample size, 99999 is not equal to the target sample size, 100000.\n",
      "Waring: The sample size, 99999 is not equal to the target sample size, 100000.\n",
      "Waring: The sample size, 89269 is not equal to the target sample size, 100000.\n",
      "Waring: The sample size, 99999 is not equal to the target sample size, 100000.\n",
      "Waring: The sample size, 99999 is not equal to the target sample size, 100000.\n",
      "Waring: The sample size, 99999 is not equal to the target sample size, 100000.\n",
      "Waring: The sample size, 78121 is not equal to the target sample size, 100000.\n",
      "Waring: The sample size, 94070 is not equal to the target sample size, 100000.\n",
      "Waring: The sample size, 90752 is not equal to the target sample size, 100000.\n",
      "Waring: The sample size, 90550 is not equal to the target sample size, 100000.\n",
      "Waring: The sample size, 99999 is not equal to the target sample size, 100000.\n",
      "Waring: The sample size, 89550 is not equal to the target sample size, 100000.\n",
      "Waring: The sample size, 99999 is not equal to the target sample size, 100000.\n",
      "Waring: The sample size, 91468 is not equal to the target sample size, 100000.\n",
      "Waring: The sample size, 99999 is not equal to the target sample size, 100000.\n",
      "Waring: The sample size, 99999 is not equal to the target sample size, 100000.\n",
      "Waring: The sample size, 99999 is not equal to the target sample size, 100000.\n",
      "Waring: The sample size, 78121 is not equal to the target sample size, 100000.\n",
      "Waring: The sample size, 95769 is not equal to the target sample size, 100000.\n",
      "Waring: The sample size, 89452 is not equal to the target sample size, 100000.\n",
      "Waring: The sample size, 96150 is not equal to the target sample size, 100000.\n",
      "Waring: The sample size, 99999 is not equal to the target sample size, 100000.\n",
      "Waring: The sample size, 89550 is not equal to the target sample size, 100000.\n",
      "Waring: The sample size, 91068 is not equal to the target sample size, 100000.\n",
      "Waring: The sample size, 99999 is not equal to the target sample size, 100000.\n",
      "Waring: The sample size, 99999 is not equal to the target sample size, 100000.\n",
      "Waring: The sample size, 99999 is not equal to the target sample size, 100000.\n",
      "Waring: The sample size, 99999 is not equal to the target sample size, 100000.\n",
      "Waring: The sample size, 74321 is not equal to the target sample size, 100000.\n",
      "Waring: The sample size, 96069 is not equal to the target sample size, 100000.\n",
      "Waring: The sample size, 91151 is not equal to the target sample size, 100000.\n",
      "Waring: The sample size, 88350 is not equal to the target sample size, 100000.\n",
      "Waring: The sample size, 99999 is not equal to the target sample size, 100000.\n",
      "Waring: The sample size, 89550 is not equal to the target sample size, 100000.\n",
      "Waring: The sample size, 99999 is not equal to the target sample size, 100000.\n",
      "Waring: The sample size, 88669 is not equal to the target sample size, 100000.\n",
      "Waring: The sample size, 99999 is not equal to the target sample size, 100000.\n",
      "Waring: The sample size, 99999 is not equal to the target sample size, 100000.\n",
      "Waring: The sample size, 99999 is not equal to the target sample size, 100000.\n",
      "Waring: The sample size, 99999 is not equal to the target sample size, 100000.\n",
      "Waring: The sample size, 78820 is not equal to the target sample size, 100000.\n",
      "Waring: The sample size, 95769 is not equal to the target sample size, 100000.\n",
      "Waring: The sample size, 93552 is not equal to the target sample size, 100000.\n",
      "Waring: The sample size, 94049 is not equal to the target sample size, 100000.\n",
      "Waring: The sample size, 99999 is not equal to the target sample size, 100000.\n",
      "Waring: The sample size, 99999 is not equal to the target sample size, 100000.\n",
      "Waring: The sample size, 99999 is not equal to the target sample size, 100000.\n",
      "Waring: The sample size, 89550 is not equal to the target sample size, 100000.\n",
      "Waring: The sample size, 99999 is not equal to the target sample size, 100000.\n",
      "Waring: The sample size, 91568 is not equal to the target sample size, 100000.\n",
      "Waring: The sample size, 99999 is not equal to the target sample size, 100000.\n",
      "Waring: The sample size, 99999 is not equal to the target sample size, 100000.\n",
      "Waring: The sample size, 99999 is not equal to the target sample size, 100000.\n",
      "Waring: The sample size, 99999 is not equal to the target sample size, 100000.\n",
      "Waring: The sample size, 78621 is not equal to the target sample size, 100000.\n",
      "Waring: The sample size, 93970 is not equal to the target sample size, 100000.\n",
      "Waring: The sample size, 89852 is not equal to the target sample size, 100000.\n",
      "Waring: The sample size, 89850 is not equal to the target sample size, 100000.\n",
      "Waring: The sample size, 99999 is not equal to the target sample size, 100000.\n",
      "Waring: The sample size, 99999 is not equal to the target sample size, 100000.\n",
      "Waring: The sample size, 99999 is not equal to the target sample size, 100000.\n",
      "Waring: The sample size, 89550 is not equal to the target sample size, 100000.\n",
      "Waring: The sample size, 99999 is not equal to the target sample size, 100000.\n",
      "Waring: The sample size, 87269 is not equal to the target sample size, 100000.\n",
      "Waring: The sample size, 99999 is not equal to the target sample size, 100000.\n",
      "Waring: The sample size, 99999 is not equal to the target sample size, 100000.\n",
      "Waring: The sample size, 99999 is not equal to the target sample size, 100000.\n",
      "Waring: The sample size, 99999 is not equal to the target sample size, 100000.\n",
      "Waring: The sample size, 99999 is not equal to the target sample size, 100000.\n",
      "Waring: The sample size, 99999 is not equal to the target sample size, 100000.\n",
      "Waring: The sample size, 78421 is not equal to the target sample size, 100000.\n",
      "Waring: The sample size, 95470 is not equal to the target sample size, 100000.\n",
      "Waring: The sample size, 92651 is not equal to the target sample size, 100000.\n",
      "Waring: The sample size, 92550 is not equal to the target sample size, 100000.\n",
      "Waring: The sample size, 89550 is not equal to the target sample size, 100000.\n",
      "Waring: The sample size, 88969 is not equal to the target sample size, 100000.\n",
      "Waring: The sample size, 99999 is not equal to the target sample size, 100000.\n",
      "Waring: The sample size, 99999 is not equal to the target sample size, 100000.\n",
      "Waring: The sample size, 99999 is not equal to the target sample size, 100000.\n",
      "Waring: The sample size, 77921 is not equal to the target sample size, 100000.\n",
      "Waring: The sample size, 92270 is not equal to the target sample size, 100000.\n",
      "Waring: The sample size, 90352 is not equal to the target sample size, 100000.\n",
      "Waring: The sample size, 94649 is not equal to the target sample size, 100000.\n",
      "Waring: The sample size, 99999 is not equal to the target sample size, 100000.\n",
      "Waring: The sample size, 99999 is not equal to the target sample size, 100000.\n",
      "Waring: The sample size, 99999 is not equal to the target sample size, 100000.\n",
      "Waring: The sample size, 89550 is not equal to the target sample size, 100000.\n",
      "Waring: The sample size, 93569 is not equal to the target sample size, 100000.\n",
      "Waring: The sample size, 99999 is not equal to the target sample size, 100000.\n",
      "Waring: The sample size, 99999 is not equal to the target sample size, 100000.\n",
      "Waring: The sample size, 78421 is not equal to the target sample size, 100000.\n",
      "Waring: The sample size, 93470 is not equal to the target sample size, 100000.\n",
      "Waring: The sample size, 89352 is not equal to the target sample size, 100000.\n",
      "Waring: The sample size, 93849 is not equal to the target sample size, 100000.\n",
      "Waring: The sample size, 99999 is not equal to the target sample size, 100000.\n",
      "Waring: The sample size, 99999 is not equal to the target sample size, 100000.\n",
      "Waring: The sample size, 89550 is not equal to the target sample size, 100000.\n",
      "Waring: The sample size, 99999 is not equal to the target sample size, 100000.\n",
      "Waring: The sample size, 88569 is not equal to the target sample size, 100000.\n",
      "Waring: The sample size, 99999 is not equal to the target sample size, 100000.\n",
      "Waring: The sample size, 99999 is not equal to the target sample size, 100000.\n",
      "Waring: The sample size, 99999 is not equal to the target sample size, 100000.\n",
      "Waring: The sample size, 99999 is not equal to the target sample size, 100000.\n",
      "Waring: The sample size, 79420 is not equal to the target sample size, 100000.\n",
      "Waring: The sample size, 93170 is not equal to the target sample size, 100000.\n",
      "Waring: The sample size, 89952 is not equal to the target sample size, 100000.\n",
      "Waring: The sample size, 93049 is not equal to the target sample size, 100000.\n",
      "Waring: The sample size, 99999 is not equal to the target sample size, 100000.\n",
      "Waring: The sample size, 99999 is not equal to the target sample size, 100000.\n",
      "Waring: The sample size, 89550 is not equal to the target sample size, 100000.\n",
      "Waring: The sample size, 90568 is not equal to the target sample size, 100000.\n",
      "Waring: The sample size, 99999 is not equal to the target sample size, 100000.\n",
      "Waring: The sample size, 99999 is not equal to the target sample size, 100000.\n",
      "Waring: The sample size, 99999 is not equal to the target sample size, 100000.\n",
      "Waring: The sample size, 76721 is not equal to the target sample size, 100000.\n",
      "Waring: The sample size, 92570 is not equal to the target sample size, 100000.\n",
      "Waring: The sample size, 91151 is not equal to the target sample size, 100000.\n",
      "Waring: The sample size, 92250 is not equal to the target sample size, 100000.\n",
      "Waring: The sample size, 99999 is not equal to the target sample size, 100000.\n",
      "Waring: The sample size, 99999 is not equal to the target sample size, 100000.\n",
      "Waring: The sample size, 99999 is not equal to the target sample size, 100000.\n"
     ]
    },
    {
     "data": {
      "application/vnd.plotly.v1+json": {
       "config": {
        "plotlyServerURL": "https://plot.ly"
       },
       "data": [
        {
         "name": "Mean Control Campaign",
         "type": "scatter",
         "x": [
          "2019-08-01",
          "2019-08-02",
          "2019-08-03",
          "2019-08-04",
          "2019-08-06",
          "2019-08-07",
          "2019-08-08",
          "2019-08-09",
          "2019-08-10",
          "2019-08-11",
          "2019-08-12",
          "2019-08-13",
          "2019-08-14",
          "2019-08-15",
          "2019-08-16",
          "2019-08-17",
          "2019-08-18",
          "2019-08-19",
          "2019-08-20",
          "2019-08-21",
          "2019-08-22",
          "2019-08-23",
          "2019-08-24",
          "2019-08-25",
          "2019-08-26",
          "2019-08-27",
          "2019-08-28",
          "2019-08-29",
          "2019-08-30"
         ],
         "xaxis": "x",
         "y": [
          0.5,
          0.7633,
          0.7103499999999999,
          0.61737,
          0.60937,
          0.60129,
          0.56741,
          0.57475,
          0.5498000000000001,
          0.58256,
          0.56763,
          0.56789,
          0.5561400000000001,
          0.5764,
          0.56196,
          0.5603,
          0.55535,
          0.5518500000000001,
          0.54879,
          0.53613,
          0.55876,
          0.55813,
          0.55822,
          0.5664199999999999,
          0.56093,
          0.55782,
          0.55256,
          0.5545500000000001,
          0.54842
         ],
         "yaxis": "y"
        },
        {
         "name": "Mean Test Campaign",
         "type": "scatter",
         "x": [
          "2019-08-01",
          "2019-08-02",
          "2019-08-03",
          "2019-08-04",
          "2019-08-06",
          "2019-08-07",
          "2019-08-08",
          "2019-08-09",
          "2019-08-10",
          "2019-08-11",
          "2019-08-12",
          "2019-08-13",
          "2019-08-14",
          "2019-08-15",
          "2019-08-16",
          "2019-08-17",
          "2019-08-18",
          "2019-08-19",
          "2019-08-20",
          "2019-08-21",
          "2019-08-22",
          "2019-08-23",
          "2019-08-24",
          "2019-08-25",
          "2019-08-26",
          "2019-08-27",
          "2019-08-28",
          "2019-08-29",
          "2019-08-30"
         ],
         "xaxis": "x",
         "y": [
          0.5,
          0.23670000000000002,
          0.28965,
          0.38262999999999997,
          0.39063000000000003,
          0.39871,
          0.43259000000000003,
          0.42524999999999996,
          0.45020000000000004,
          0.41744,
          0.43237000000000003,
          0.43211,
          0.44386000000000003,
          0.4236,
          0.43804000000000004,
          0.4397,
          0.44465000000000005,
          0.44815,
          0.45121,
          0.46387,
          0.44124,
          0.44187,
          0.44177999999999995,
          0.43357999999999997,
          0.43906999999999996,
          0.44218,
          0.44744,
          0.44545,
          0.45158000000000004
         ],
         "yaxis": "y"
        },
        {
         "marker": {
          "color": [
           "green",
           "green",
           "grey",
           "green",
           "green",
           "grey",
           "green",
           "grey",
           "green",
           "grey",
           "green",
           "grey",
           "green",
           "grey",
           "green",
           "grey",
           "grey",
           "green",
           "grey",
           "green",
           "green",
           "green",
           "green",
           "grey",
           "grey",
           "green",
           "grey",
           "grey",
           "grey"
          ]
         },
         "mode": "markers",
         "name": "Test:Control Ratio",
         "type": "scatter",
         "x": [
          "2019-08-01",
          "2019-08-02",
          "2019-08-03",
          "2019-08-04",
          "2019-08-06",
          "2019-08-07",
          "2019-08-08",
          "2019-08-09",
          "2019-08-10",
          "2019-08-11",
          "2019-08-12",
          "2019-08-13",
          "2019-08-14",
          "2019-08-15",
          "2019-08-16",
          "2019-08-17",
          "2019-08-18",
          "2019-08-19",
          "2019-08-20",
          "2019-08-21",
          "2019-08-22",
          "2019-08-23",
          "2019-08-24",
          "2019-08-25",
          "2019-08-26",
          "2019-08-27",
          "2019-08-28",
          "2019-08-29",
          "2019-08-30"
         ],
         "xaxis": "x",
         "y": [
          3.197358101135191,
          1.0920336379739535,
          0.649641795409133,
          1.3969072164948453,
          1.2481934245439028,
          0.6254690481238075,
          1.6451239467578458,
          0.5589652437857201,
          3.4652227251575782,
          0.6910877041098525,
          1.3671412523393247,
          0.6897611102282959,
          3.135930980392157,
          0.8340694097741772,
          1.3668503623864752,
          0.8432234630186481,
          0.9974384608364515,
          1.0708271138289676,
          0.41525438484188965,
          5.63595821023917,
          1.383090225897599,
          1.5617054941182849,
          2.3885151331766705,
          0.8848677875017028,
          0.9146745677828728,
          1.1098430427096764,
          0.8277210331925746,
          0.5826758920936018,
          0.99643579312254
         ],
         "yaxis": "y2"
        }
       ],
       "layout": {
        "legend": {
         "orientation": "h",
         "x": 1,
         "xanchor": "right",
         "y": 1.02,
         "yanchor": "bottom"
        },
        "template": {
         "data": {
          "bar": [
           {
            "error_x": {
             "color": "#2a3f5f"
            },
            "error_y": {
             "color": "#2a3f5f"
            },
            "marker": {
             "line": {
              "color": "#E5ECF6",
              "width": 0.5
             },
             "pattern": {
              "fillmode": "overlay",
              "size": 10,
              "solidity": 0.2
             }
            },
            "type": "bar"
           }
          ],
          "barpolar": [
           {
            "marker": {
             "line": {
              "color": "#E5ECF6",
              "width": 0.5
             },
             "pattern": {
              "fillmode": "overlay",
              "size": 10,
              "solidity": 0.2
             }
            },
            "type": "barpolar"
           }
          ],
          "carpet": [
           {
            "aaxis": {
             "endlinecolor": "#2a3f5f",
             "gridcolor": "white",
             "linecolor": "white",
             "minorgridcolor": "white",
             "startlinecolor": "#2a3f5f"
            },
            "baxis": {
             "endlinecolor": "#2a3f5f",
             "gridcolor": "white",
             "linecolor": "white",
             "minorgridcolor": "white",
             "startlinecolor": "#2a3f5f"
            },
            "type": "carpet"
           }
          ],
          "choropleth": [
           {
            "colorbar": {
             "outlinewidth": 0,
             "ticks": ""
            },
            "type": "choropleth"
           }
          ],
          "contour": [
           {
            "colorbar": {
             "outlinewidth": 0,
             "ticks": ""
            },
            "colorscale": [
             [
              0,
              "#0d0887"
             ],
             [
              0.1111111111111111,
              "#46039f"
             ],
             [
              0.2222222222222222,
              "#7201a8"
             ],
             [
              0.3333333333333333,
              "#9c179e"
             ],
             [
              0.4444444444444444,
              "#bd3786"
             ],
             [
              0.5555555555555556,
              "#d8576b"
             ],
             [
              0.6666666666666666,
              "#ed7953"
             ],
             [
              0.7777777777777778,
              "#fb9f3a"
             ],
             [
              0.8888888888888888,
              "#fdca26"
             ],
             [
              1,
              "#f0f921"
             ]
            ],
            "type": "contour"
           }
          ],
          "contourcarpet": [
           {
            "colorbar": {
             "outlinewidth": 0,
             "ticks": ""
            },
            "type": "contourcarpet"
           }
          ],
          "heatmap": [
           {
            "colorbar": {
             "outlinewidth": 0,
             "ticks": ""
            },
            "colorscale": [
             [
              0,
              "#0d0887"
             ],
             [
              0.1111111111111111,
              "#46039f"
             ],
             [
              0.2222222222222222,
              "#7201a8"
             ],
             [
              0.3333333333333333,
              "#9c179e"
             ],
             [
              0.4444444444444444,
              "#bd3786"
             ],
             [
              0.5555555555555556,
              "#d8576b"
             ],
             [
              0.6666666666666666,
              "#ed7953"
             ],
             [
              0.7777777777777778,
              "#fb9f3a"
             ],
             [
              0.8888888888888888,
              "#fdca26"
             ],
             [
              1,
              "#f0f921"
             ]
            ],
            "type": "heatmap"
           }
          ],
          "heatmapgl": [
           {
            "colorbar": {
             "outlinewidth": 0,
             "ticks": ""
            },
            "colorscale": [
             [
              0,
              "#0d0887"
             ],
             [
              0.1111111111111111,
              "#46039f"
             ],
             [
              0.2222222222222222,
              "#7201a8"
             ],
             [
              0.3333333333333333,
              "#9c179e"
             ],
             [
              0.4444444444444444,
              "#bd3786"
             ],
             [
              0.5555555555555556,
              "#d8576b"
             ],
             [
              0.6666666666666666,
              "#ed7953"
             ],
             [
              0.7777777777777778,
              "#fb9f3a"
             ],
             [
              0.8888888888888888,
              "#fdca26"
             ],
             [
              1,
              "#f0f921"
             ]
            ],
            "type": "heatmapgl"
           }
          ],
          "histogram": [
           {
            "marker": {
             "pattern": {
              "fillmode": "overlay",
              "size": 10,
              "solidity": 0.2
             }
            },
            "type": "histogram"
           }
          ],
          "histogram2d": [
           {
            "colorbar": {
             "outlinewidth": 0,
             "ticks": ""
            },
            "colorscale": [
             [
              0,
              "#0d0887"
             ],
             [
              0.1111111111111111,
              "#46039f"
             ],
             [
              0.2222222222222222,
              "#7201a8"
             ],
             [
              0.3333333333333333,
              "#9c179e"
             ],
             [
              0.4444444444444444,
              "#bd3786"
             ],
             [
              0.5555555555555556,
              "#d8576b"
             ],
             [
              0.6666666666666666,
              "#ed7953"
             ],
             [
              0.7777777777777778,
              "#fb9f3a"
             ],
             [
              0.8888888888888888,
              "#fdca26"
             ],
             [
              1,
              "#f0f921"
             ]
            ],
            "type": "histogram2d"
           }
          ],
          "histogram2dcontour": [
           {
            "colorbar": {
             "outlinewidth": 0,
             "ticks": ""
            },
            "colorscale": [
             [
              0,
              "#0d0887"
             ],
             [
              0.1111111111111111,
              "#46039f"
             ],
             [
              0.2222222222222222,
              "#7201a8"
             ],
             [
              0.3333333333333333,
              "#9c179e"
             ],
             [
              0.4444444444444444,
              "#bd3786"
             ],
             [
              0.5555555555555556,
              "#d8576b"
             ],
             [
              0.6666666666666666,
              "#ed7953"
             ],
             [
              0.7777777777777778,
              "#fb9f3a"
             ],
             [
              0.8888888888888888,
              "#fdca26"
             ],
             [
              1,
              "#f0f921"
             ]
            ],
            "type": "histogram2dcontour"
           }
          ],
          "mesh3d": [
           {
            "colorbar": {
             "outlinewidth": 0,
             "ticks": ""
            },
            "type": "mesh3d"
           }
          ],
          "parcoords": [
           {
            "line": {
             "colorbar": {
              "outlinewidth": 0,
              "ticks": ""
             }
            },
            "type": "parcoords"
           }
          ],
          "pie": [
           {
            "automargin": true,
            "type": "pie"
           }
          ],
          "scatter": [
           {
            "fillpattern": {
             "fillmode": "overlay",
             "size": 10,
             "solidity": 0.2
            },
            "type": "scatter"
           }
          ],
          "scatter3d": [
           {
            "line": {
             "colorbar": {
              "outlinewidth": 0,
              "ticks": ""
             }
            },
            "marker": {
             "colorbar": {
              "outlinewidth": 0,
              "ticks": ""
             }
            },
            "type": "scatter3d"
           }
          ],
          "scattercarpet": [
           {
            "marker": {
             "colorbar": {
              "outlinewidth": 0,
              "ticks": ""
             }
            },
            "type": "scattercarpet"
           }
          ],
          "scattergeo": [
           {
            "marker": {
             "colorbar": {
              "outlinewidth": 0,
              "ticks": ""
             }
            },
            "type": "scattergeo"
           }
          ],
          "scattergl": [
           {
            "marker": {
             "colorbar": {
              "outlinewidth": 0,
              "ticks": ""
             }
            },
            "type": "scattergl"
           }
          ],
          "scattermapbox": [
           {
            "marker": {
             "colorbar": {
              "outlinewidth": 0,
              "ticks": ""
             }
            },
            "type": "scattermapbox"
           }
          ],
          "scatterpolar": [
           {
            "marker": {
             "colorbar": {
              "outlinewidth": 0,
              "ticks": ""
             }
            },
            "type": "scatterpolar"
           }
          ],
          "scatterpolargl": [
           {
            "marker": {
             "colorbar": {
              "outlinewidth": 0,
              "ticks": ""
             }
            },
            "type": "scatterpolargl"
           }
          ],
          "scatterternary": [
           {
            "marker": {
             "colorbar": {
              "outlinewidth": 0,
              "ticks": ""
             }
            },
            "type": "scatterternary"
           }
          ],
          "surface": [
           {
            "colorbar": {
             "outlinewidth": 0,
             "ticks": ""
            },
            "colorscale": [
             [
              0,
              "#0d0887"
             ],
             [
              0.1111111111111111,
              "#46039f"
             ],
             [
              0.2222222222222222,
              "#7201a8"
             ],
             [
              0.3333333333333333,
              "#9c179e"
             ],
             [
              0.4444444444444444,
              "#bd3786"
             ],
             [
              0.5555555555555556,
              "#d8576b"
             ],
             [
              0.6666666666666666,
              "#ed7953"
             ],
             [
              0.7777777777777778,
              "#fb9f3a"
             ],
             [
              0.8888888888888888,
              "#fdca26"
             ],
             [
              1,
              "#f0f921"
             ]
            ],
            "type": "surface"
           }
          ],
          "table": [
           {
            "cells": {
             "fill": {
              "color": "#EBF0F8"
             },
             "line": {
              "color": "white"
             }
            },
            "header": {
             "fill": {
              "color": "#C8D4E3"
             },
             "line": {
              "color": "white"
             }
            },
            "type": "table"
           }
          ]
         },
         "layout": {
          "annotationdefaults": {
           "arrowcolor": "#2a3f5f",
           "arrowhead": 0,
           "arrowwidth": 1
          },
          "autotypenumbers": "strict",
          "coloraxis": {
           "colorbar": {
            "outlinewidth": 0,
            "ticks": ""
           }
          },
          "colorscale": {
           "diverging": [
            [
             0,
             "#8e0152"
            ],
            [
             0.1,
             "#c51b7d"
            ],
            [
             0.2,
             "#de77ae"
            ],
            [
             0.3,
             "#f1b6da"
            ],
            [
             0.4,
             "#fde0ef"
            ],
            [
             0.5,
             "#f7f7f7"
            ],
            [
             0.6,
             "#e6f5d0"
            ],
            [
             0.7,
             "#b8e186"
            ],
            [
             0.8,
             "#7fbc41"
            ],
            [
             0.9,
             "#4d9221"
            ],
            [
             1,
             "#276419"
            ]
           ],
           "sequential": [
            [
             0,
             "#0d0887"
            ],
            [
             0.1111111111111111,
             "#46039f"
            ],
            [
             0.2222222222222222,
             "#7201a8"
            ],
            [
             0.3333333333333333,
             "#9c179e"
            ],
            [
             0.4444444444444444,
             "#bd3786"
            ],
            [
             0.5555555555555556,
             "#d8576b"
            ],
            [
             0.6666666666666666,
             "#ed7953"
            ],
            [
             0.7777777777777778,
             "#fb9f3a"
            ],
            [
             0.8888888888888888,
             "#fdca26"
            ],
            [
             1,
             "#f0f921"
            ]
           ],
           "sequentialminus": [
            [
             0,
             "#0d0887"
            ],
            [
             0.1111111111111111,
             "#46039f"
            ],
            [
             0.2222222222222222,
             "#7201a8"
            ],
            [
             0.3333333333333333,
             "#9c179e"
            ],
            [
             0.4444444444444444,
             "#bd3786"
            ],
            [
             0.5555555555555556,
             "#d8576b"
            ],
            [
             0.6666666666666666,
             "#ed7953"
            ],
            [
             0.7777777777777778,
             "#fb9f3a"
            ],
            [
             0.8888888888888888,
             "#fdca26"
            ],
            [
             1,
             "#f0f921"
            ]
           ]
          },
          "colorway": [
           "#636efa",
           "#EF553B",
           "#00cc96",
           "#ab63fa",
           "#FFA15A",
           "#19d3f3",
           "#FF6692",
           "#B6E880",
           "#FF97FF",
           "#FECB52"
          ],
          "font": {
           "color": "#2a3f5f"
          },
          "geo": {
           "bgcolor": "white",
           "lakecolor": "white",
           "landcolor": "#E5ECF6",
           "showlakes": true,
           "showland": true,
           "subunitcolor": "white"
          },
          "hoverlabel": {
           "align": "left"
          },
          "hovermode": "closest",
          "mapbox": {
           "style": "light"
          },
          "paper_bgcolor": "white",
          "plot_bgcolor": "#E5ECF6",
          "polar": {
           "angularaxis": {
            "gridcolor": "white",
            "linecolor": "white",
            "ticks": ""
           },
           "bgcolor": "#E5ECF6",
           "radialaxis": {
            "gridcolor": "white",
            "linecolor": "white",
            "ticks": ""
           }
          },
          "scene": {
           "xaxis": {
            "backgroundcolor": "#E5ECF6",
            "gridcolor": "white",
            "gridwidth": 2,
            "linecolor": "white",
            "showbackground": true,
            "ticks": "",
            "zerolinecolor": "white"
           },
           "yaxis": {
            "backgroundcolor": "#E5ECF6",
            "gridcolor": "white",
            "gridwidth": 2,
            "linecolor": "white",
            "showbackground": true,
            "ticks": "",
            "zerolinecolor": "white"
           },
           "zaxis": {
            "backgroundcolor": "#E5ECF6",
            "gridcolor": "white",
            "gridwidth": 2,
            "linecolor": "white",
            "showbackground": true,
            "ticks": "",
            "zerolinecolor": "white"
           }
          },
          "shapedefaults": {
           "line": {
            "color": "#2a3f5f"
           }
          },
          "ternary": {
           "aaxis": {
            "gridcolor": "white",
            "linecolor": "white",
            "ticks": ""
           },
           "baxis": {
            "gridcolor": "white",
            "linecolor": "white",
            "ticks": ""
           },
           "bgcolor": "#E5ECF6",
           "caxis": {
            "gridcolor": "white",
            "linecolor": "white",
            "ticks": ""
           }
          },
          "title": {
           "x": 0.05
          },
          "xaxis": {
           "automargin": true,
           "gridcolor": "white",
           "linecolor": "white",
           "ticks": "",
           "title": {
            "standoff": 15
           },
           "zerolinecolor": "white",
           "zerolinewidth": 2
          },
          "yaxis": {
           "automargin": true,
           "gridcolor": "white",
           "linecolor": "white",
           "ticks": "",
           "title": {
            "standoff": 15
           },
           "zerolinecolor": "white",
           "zerolinewidth": 2
          }
         }
        },
        "title": {
         "text": "Campaign Analysis"
        },
        "xaxis": {
         "anchor": "y",
         "domain": [
          0,
          0.94
         ],
         "tickangle": -45,
         "tickformat": "%Y-%m-%d",
         "tickvals": [
          "2019-08-01",
          "2019-08-12",
          "2019-08-22"
         ],
         "title": {
          "text": "Date"
         }
        },
        "yaxis": {
         "anchor": "x",
         "domain": [
          0,
          1
         ],
         "title": {
          "text": "Mean Values"
         }
        },
        "yaxis2": {
         "anchor": "x",
         "overlaying": "y",
         "side": "right",
         "title": {
          "text": "Cost per Purchase Ratio"
         }
        }
       }
      }
     },
     "metadata": {},
     "output_type": "display_data"
    }
   ],
   "source": [
    "# Run the simulation for 100 times\n",
    "from mab_utils import scenario_gen\n",
    "weight_group, data_size_group, params_list = scenario_gen(\n",
    "    df, reward_type, reward_col, experiment_prior, batch_col, \n",
    "    iteration = 100)"
   ]
  }
 ],
 "metadata": {
  "kernelspec": {
   "display_name": "pymc_env",
   "language": "python",
   "name": "python3"
  },
  "language_info": {
   "codemirror_mode": {
    "name": "ipython",
    "version": 3
   },
   "file_extension": ".py",
   "mimetype": "text/x-python",
   "name": "python",
   "nbconvert_exporter": "python",
   "pygments_lexer": "ipython3",
   "version": "3.10.13"
  }
 },
 "nbformat": 4,
 "nbformat_minor": 2
}
